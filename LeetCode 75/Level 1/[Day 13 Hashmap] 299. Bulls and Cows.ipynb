{
 "cells": [
  {
   "cell_type": "markdown",
   "id": "79ee90b7",
   "metadata": {},
   "source": [
    "### Bulls and Cows\n",
    "---\n",
    "You are playing the Bulls and Cows game with your friend.\n",
    "\n",
    "You write down a secret number and ask your friend to guess what the number is. When your friend makes a guess, you provide a hint with the following info:\n",
    "\n",
    "The number of \"bulls\", which are digits in the guess that are in the correct position.\n",
    "The number of \"cows\", which are digits in the guess that are in your secret number but are located in the wrong position. Specifically, the non-bull digits in the guess that could be rearranged such that they become bulls.\n",
    "Given the secret number secret and your friend's guess guess, return the hint for your friend's guess.\n",
    "\n",
    "The hint should be formatted as \"xAyB\", where x is the number of bulls and y is the number of cows. Note that both secret and guess may contain duplicate digits.\n",
    "\n",
    "|Input|Output|Explanation|\n",
    "|:--|:--|:--|\n",
    "|secret = \"1807\", guess = \"7810\"|\"1A3B\"||\n",
    "|secret = \"1123\", guess = \"0111\"|\"1A1B\"||\n",
    ">$Constraints:$  \n",
    ">- $1 <= secret.length,$ $guess.length <= 1000$\n",
    ">- $secret.length == guess.length$\n",
    ">- $secret$ $and$ $guess$ $consist$ $of$ $digits$ $only.$"
   ]
  },
  {
   "cell_type": "code",
   "execution_count": 1,
   "id": "d2bc6314",
   "metadata": {},
   "outputs": [],
   "source": [
    "import java.time.Duration;\n",
    "import java.time.Instant;\n",
    "import java.util.stream.*;\n",
    "\n",
    "class Solution {\n",
    "    public String getHint(String secret, String guess) {\n",
    "        Map<Character, Integer> secretMap = new HashMap<>(), guessMap = new HashMap<>();\n",
    "\n",
    "        IntStream\n",
    "            .iterate(0, i -> i + 1)\n",
    "            .limit(secret.length())\n",
    "            .filter(i -> secret.charAt(i) != guess.charAt(i))\n",
    "            .forEach(i -> {\n",
    "                secretMap.put(secret.charAt(i), secretMap.getOrDefault(secret.charAt(i), 0) + 1);\n",
    "                guessMap.put(guess.charAt(i), guessMap.getOrDefault(guess.charAt(i), 0) + 1);\n",
    "            });\n",
    "\n",
    "        int bulls = secret.length() - secretMap.values().stream().reduce(0, Integer::sum);\n",
    "        int cows = secretMap.keySet().stream()\n",
    "        .filter(K -> guessMap.containsKey(K))\n",
    "        .map(K -> Math.min(secretMap.getOrDefault(K,0), guessMap.getOrDefault(K,0)))\n",
    "        .reduce(0, Integer::sum);\n",
    "\n",
    "        return bulls + \"A\" + cows + \"B\";\n",
    "    }\n",
    "}"
   ]
  },
  {
   "cell_type": "code",
   "execution_count": 7,
   "id": "c3a909ee",
   "metadata": {},
   "outputs": [
    {
     "data": {
      "text/plain": [
       "1A3B"
      ]
     },
     "execution_count": 7,
     "metadata": {},
     "output_type": "execute_result"
    }
   ],
   "source": [
    "Solution solution = new Solution();\n",
    "String secret = \"1807\", guess = \"7810\";\n",
    "\n",
    "/* Measure execution time */\n",
    "Instant start = Instant.now();\n",
    "String answer = solution.getHint(secret, guess);\n",
    "Instant finish = Instant.now();\n",
    "\n",
    "answer;"
   ]
  },
  {
   "cell_type": "code",
   "execution_count": 8,
   "id": "707b57f0",
   "metadata": {},
   "outputs": [
    {
     "data": {
      "text/plain": [
       "19"
      ]
     },
     "execution_count": 8,
     "metadata": {},
     "output_type": "execute_result"
    }
   ],
   "source": [
    "Duration.between(start, finish).toMillis();"
   ]
  },
  {
   "attachments": {
    "image.png": {
     "image/png": "[encoded data removed]"
    }
   },
   "cell_type": "markdown",
   "id": "b760f5d4",
   "metadata": {},
   "source": [
    "![image.png](attachment:image.png)"
   ]
  },
  {
   "cell_type": "markdown",
   "id": "872e01b6",
   "metadata": {},
   "source": [
    "### One pass Java solution\n",
    "---"
   ]
  },
  {
   "cell_type": "code",
   "execution_count": 4,
   "id": "12ba9ab1",
   "metadata": {},
   "outputs": [],
   "source": [
    "public String getHint(String secret, String guess) {\n",
    "    int bulls = 0;\n",
    "    int cows = 0;\n",
    "    int[] numbers = new int[10];\n",
    "    for (int i = 0; i<secret.length(); i++) {\n",
    "        if (secret.charAt(i) == guess.charAt(i)) bulls++;\n",
    "        else {\n",
    "            if (numbers[secret.charAt(i)-'0']++ < 0) cows++;\n",
    "            if (numbers[guess.charAt(i)-'0']-- > 0) cows++;\n",
    "        }\n",
    "    }\n",
    "    return bulls + \"A\" + cows + \"B\";\n",
    "}"
   ]
  },
  {
   "cell_type": "code",
   "execution_count": 5,
   "id": "67e803f4",
   "metadata": {},
   "outputs": [
    {
     "data": {
      "text/plain": [
       "1A3B"
      ]
     },
     "execution_count": 5,
     "metadata": {},
     "output_type": "execute_result"
    }
   ],
   "source": [
    "Solution solution = new Solution();\n",
    "String secret = \"1807\", guess = \"7810\";\n",
    "\n",
    "/* Measure execution time */\n",
    "Instant start = Instant.now();\n",
    "String answer = solution.getHint(secret, guess);\n",
    "Instant finish = Instant.now();\n",
    "\n",
    "answer;"
   ]
  },
  {
   "cell_type": "code",
   "execution_count": 6,
   "id": "979b585e",
   "metadata": {},
   "outputs": [
    {
     "data": {
      "text/plain": [
       "25"
      ]
     },
     "execution_count": 6,
     "metadata": {},
     "output_type": "execute_result"
    }
   ],
   "source": [
    "Duration.between(start, finish).toMillis();"
   ]
  }
 ],
 "metadata": {
  "kernelspec": {
   "display_name": "Java",
   "language": "java",
   "name": "java"
  },
  "language_info": {
   "codemirror_mode": "java",
   "file_extension": ".jshell",
   "mimetype": "text/x-java-source",
   "name": "Java",
   "pygments_lexer": "java",
   "version": "17.0.6+10-LTS"
  }
 },
 "nbformat": 4,
 "nbformat_minor": 5
}
