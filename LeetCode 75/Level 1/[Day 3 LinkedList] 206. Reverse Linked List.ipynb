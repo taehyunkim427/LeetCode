{
 "cells": [
  {
   "cell_type": "markdown",
   "id": "f27c768d",
   "metadata": {},
   "source": [
    "### Reverse Linked List\n",
    "---\n",
    "Given the head of a singly linked list, reverse the list, and return the reversed list.\n",
    "\n",
    "|Input|Output|Explanation|\n",
    "|:--|:--|:--|\n",
    "|head = [1,2,3,4,5]|[5,4,3,2,1]||\n",
    "|head = [1,2]|[2,1]||\n",
    "|head = []|[]||\n",
    "\n",
    "\n",
    ">$Constraints:$  \n",
    ">- $The$ $number$ $of$ $nodes$ $in$ $the$ $list$ $is$ $the$ $range$ $[0, 5000]$  \n",
    ">- $-5000 <= Node.val <= 5000$"
   ]
  },
  {
   "cell_type": "code",
   "execution_count": 5,
   "id": "50f01f73",
   "metadata": {},
   "outputs": [],
   "source": [
    "import java.time.Duration;\n",
    "import java.time.Instant;\n",
    "\n",
    "public class ListNode {\n",
    "  int val;\n",
    "  ListNode next;\n",
    "  ListNode() {}\n",
    "  ListNode(int val) { this.val = val; }\n",
    "  ListNode(int val, ListNode next) { this.val = val; this.next = next; }\n",
    "}\n",
    "\n",
    "public class Solution {\n",
    "    public ListNode reverseList(ListNode head) {\n",
    "        if (head == null) return head;\n",
    "        ListNode currentNode = head;\n",
    "        if (head.next == null) return head;\n",
    "        ListNode nextNode = head.next;\n",
    "        if (nextNode.next == null) {\n",
    "            nextNode.next = currentNode;\n",
    "            currentNode.next = null;\n",
    "            return nextNode;\n",
    "        }\n",
    "        ListNode nextNextNode = head.next.next;\n",
    "\n",
    "        while (nextNextNode != null){\n",
    "            nextNode.next = currentNode;\n",
    "            currentNode.next = currentNode.next == nextNode ? null : currentNode.next;\n",
    "            \n",
    "            currentNode = nextNode;\n",
    "            nextNode = nextNextNode;\n",
    "            nextNextNode = nextNextNode.next;\n",
    "        }\n",
    "        nextNode.next = currentNode;\n",
    "\n",
    "        return nextNode;\n",
    "    }\n",
    "}"
   ]
  },
  {
   "cell_type": "code",
   "execution_count": 6,
   "id": "28a06754",
   "metadata": {},
   "outputs": [
    {
     "data": {
      "text/plain": [
       "21"
      ]
     },
     "execution_count": 6,
     "metadata": {},
     "output_type": "execute_result"
    }
   ],
   "source": [
    "ListNode list1 = new ListNode(1);\n",
    "ListNode list2 = new ListNode(2, list1);\n",
    "Solution solution = new Solution();\n",
    "\n",
    "/* Measure execution time */\n",
    "Instant start = Instant.now();\n",
    "ListNode result = solution.reverseList(list1);\n",
    "Instant finish = Instant.now();\n",
    "\n",
    "Duration.between(start, finish).toMillis();"
   ]
  },
  {
   "attachments": {
    "image.png": {
     "image/png": "[encoded data removed]"
    }
   },
   "cell_type": "markdown",
   "id": "51b7d84b",
   "metadata": {},
   "source": [
    "![image.png](attachment:image.png)"
   ]
  },
  {
   "cell_type": "code",
   "execution_count": 3,
   "id": "97dd44b4",
   "metadata": {},
   "outputs": [],
   "source": [
    "public class RecursiveSolution {\n",
    "    public ListNode reverseList(ListNode head) {\n",
    "        if(head==null || head.next==null)\n",
    "            return head;\n",
    "        ListNode nextNode=head.next;\n",
    "        ListNode newHead=reverseList(nextNode);\n",
    "        nextNode.next=head;\n",
    "        head.next=null;\n",
    "        return newHead;\n",
    "    }\n",
    "}"
   ]
  },
  {
   "cell_type": "code",
   "execution_count": 4,
   "id": "e72c85bc",
   "metadata": {},
   "outputs": [
    {
     "data": {
      "text/plain": [
       "38"
      ]
     },
     "execution_count": 4,
     "metadata": {},
     "output_type": "execute_result"
    }
   ],
   "source": [
    "RecursiveSolution recursiveSolution = new RecursiveSolution();\n",
    "\n",
    "/* Measure execution time */\n",
    "start = Instant.now();\n",
    "ListNode recursiveResult = recursiveSolution.reverseList(list1);\n",
    "finish = Instant.now();\n",
    "\n",
    "Duration.between(start, finish).toMillis();"
   ]
  }
 ],
 "metadata": {
  "kernelspec": {
   "display_name": "Java",
   "language": "java",
   "name": "java"
  },
  "language_info": {
   "codemirror_mode": "java",
   "file_extension": ".jshell",
   "mimetype": "text/x-java-source",
   "name": "Java",
   "pygments_lexer": "java",
   "version": "11.0.17+8-post-Ubuntu-1ubuntu222.04"
  }
 },
 "nbformat": 4,
 "nbformat_minor": 5
}
