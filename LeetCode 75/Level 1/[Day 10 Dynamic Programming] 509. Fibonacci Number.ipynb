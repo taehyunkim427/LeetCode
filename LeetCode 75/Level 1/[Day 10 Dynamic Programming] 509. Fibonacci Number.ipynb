{
 "cells": [
  {
   "cell_type": "markdown",
   "id": "e0d7d9da",
   "metadata": {},
   "source": [
    "### Fibonacci Number\n",
    "---\n",
    "The Fibonacci numbers, commonly denoted F(n) form a sequence, called the Fibonacci sequence, such that each number is the sum of the two preceding ones, starting from 0 and 1. That is,\n",
    "F(0) = 0, F(1) = 1\n",
    "F(n) = F(n - 1) + F(n - 2), for n > 1.\n",
    "Given n, calculate F(n).\n",
    "\n",
    "|Input|Output|Explanation|\n",
    "|:--|:--|:--|\n",
    "|n = 2|1|F(2) = F(1) + F(0) = 1 + 0 = 1.|\n",
    "|n = 3|2|F(3) = F(2) + F(1) = 1 + 1 = 2.|\n",
    "|n = 4|3|F(4) = F(3) + F(2) = 2 + 1 = 3.|\n",
    ">$Constraints:$  \n",
    ">- $0 <= n <= 30$"
   ]
  },
  {
   "cell_type": "code",
   "execution_count": 1,
   "id": "ccfbe22c",
   "metadata": {},
   "outputs": [],
   "source": [
    "import java.time.Duration;\n",
    "import java.time.Instant;\n",
    "\n",
    "class Solution {\n",
    "    public int fib(int n) {\n",
    "        return fibonacci(n);\n",
    "    }\n",
    "\n",
    "    private int fibonacci(int n) {\n",
    "        return n == 1 ? 1 : n == 0 ? 0 : fibonacci(n-1) + fibonacci(n-2);\n",
    "    }\n",
    "}"
   ]
  },
  {
   "cell_type": "code",
   "execution_count": 10,
   "id": "6acae7ce",
   "metadata": {},
   "outputs": [
    {
     "data": {
      "text/plain": [
       "3"
      ]
     },
     "execution_count": 10,
     "metadata": {},
     "output_type": "execute_result"
    }
   ],
   "source": [
    "Solution solution = new Solution();\n",
    "\n",
    "/* Measure execution time */\n",
    "Instant start = Instant.now();\n",
    "int answer = solution.fib(4);\n",
    "Instant finish = Instant.now();\n",
    "\n",
    "answer"
   ]
  },
  {
   "cell_type": "code",
   "execution_count": 11,
   "id": "c727e02c",
   "metadata": {},
   "outputs": [
    {
     "data": {
      "text/plain": [
       "25"
      ]
     },
     "execution_count": 11,
     "metadata": {},
     "output_type": "execute_result"
    }
   ],
   "source": [
    "Duration.between(start, finish).toMillis();"
   ]
  },
  {
   "attachments": {
    "image.png": {
     "image/png": "[encoded data removed]"
    }
   },
   "cell_type": "markdown",
   "id": "9671ecc3",
   "metadata": {},
   "source": [
    "![image.png](attachment:image.png)"
   ]
  },
  {
   "cell_type": "markdown",
   "id": "3c8a7552",
   "metadata": {},
   "source": [
    "### Fibonacci Number Solution || Recursion || Memoization || Tabulation\n",
    "---"
   ]
  },
  {
   "cell_type": "code",
   "execution_count": 4,
   "id": "b6dde9f8",
   "metadata": {},
   "outputs": [],
   "source": [
    "class MemoizationSolution {\n",
    "    public int fib(int n) {\n",
    "        if (n <= 1) return n;\n",
    "        \n",
    "        int[] arr = new int[n + 1];\n",
    "        arr[0] = 0;\n",
    "        arr[1] = 1;\n",
    "\n",
    "        for (int i = 2; i < arr.length; i++) {\n",
    "            arr[i] = arr[i - 1] + arr[i - 2];\n",
    "        }\n",
    "        return arr[n];\n",
    "    }\n",
    "}"
   ]
  },
  {
   "cell_type": "code",
   "execution_count": 5,
   "id": "eafaad86",
   "metadata": {},
   "outputs": [],
   "source": [
    "MemoizationSolution memoizationSolution = new MemoizationSolution();\n",
    "\n",
    "/* Measure execution time */\n",
    "start = Instant.now();\n",
    "answer = memoizationSolution.fib(4);\n",
    "finish = Instant.now();"
   ]
  },
  {
   "cell_type": "code",
   "execution_count": 6,
   "id": "d44e3a72",
   "metadata": {},
   "outputs": [
    {
     "data": {
      "text/plain": [
       "47"
      ]
     },
     "execution_count": 6,
     "metadata": {},
     "output_type": "execute_result"
    }
   ],
   "source": [
    "Duration.between(start, finish).toMillis();"
   ]
  },
  {
   "cell_type": "markdown",
   "id": "27f1d25d",
   "metadata": {},
   "source": [
    "### ✅ JAVA ✅ Fastest --> 0ms Runtime easy and elegant Solution\n",
    "---"
   ]
  },
  {
   "cell_type": "code",
   "execution_count": 7,
   "id": "13ff308b",
   "metadata": {},
   "outputs": [],
   "source": [
    "class EasySolution {\n",
    "    public int fib(int n) {\n",
    "        int a=0, b=1, c;\n",
    "        while(n-->=1){\n",
    "            c=a+b;\n",
    "            a=b;\n",
    "            b=c;\n",
    "        }\n",
    "        return a;\n",
    "    }\n",
    "}"
   ]
  },
  {
   "cell_type": "code",
   "execution_count": 8,
   "id": "5d0f899f",
   "metadata": {},
   "outputs": [],
   "source": [
    "EasySolution easySolution = new EasySolution();\n",
    "\n",
    "/* Measure execution time */\n",
    "start = Instant.now();\n",
    "answer = easySolution.fib(4);\n",
    "finish = Instant.now();"
   ]
  },
  {
   "cell_type": "code",
   "execution_count": 9,
   "id": "23a8783a",
   "metadata": {},
   "outputs": [
    {
     "data": {
      "text/plain": [
       "33"
      ]
     },
     "execution_count": 9,
     "metadata": {},
     "output_type": "execute_result"
    }
   ],
   "source": [
    "Duration.between(start, finish).toMillis();"
   ]
  }
 ],
 "metadata": {
  "kernelspec": {
   "display_name": "Java",
   "language": "java",
   "name": "java"
  },
  "language_info": {
   "codemirror_mode": "java",
   "file_extension": ".jshell",
   "mimetype": "text/x-java-source",
   "name": "Java",
   "pygments_lexer": "java",
   "version": "11.0.17+8-post-Ubuntu-1ubuntu222.04"
  }
 },
 "nbformat": 4,
 "nbformat_minor": 5
}
