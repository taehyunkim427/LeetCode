{
 "cells": [
  {
   "cell_type": "markdown",
   "id": "bd41df7a",
   "metadata": {},
   "source": [
    "### Running Sum of 1d Array\n",
    "---\n",
    "Given an array nums. We define a running sum of an array as runningSum[i] = sum(nums[0]…nums[i]).\n",
    "Return the running sum of nums.\n",
    "\n",
    "|Input|Output|Explanation|\n",
    "|---|---|---|\n",
    "|[1,2,3,4]| [1,3,6,10]|Running sum is obtained as follows: [1, 1+2, 1+2+3, 1+2+3+4]|\n",
    "|[1,1,1,1,1]|[1,2,3,4,5]|Running sum is obtained as follows: [1, 1+1, 1+1+1, 1+1+1+1, 1+1+1+1+1]|\n",
    "|[3,1,2,10,1]|[3,4,6,16,17]||\n",
    "\n",
    ">$Constraints:$  \n",
    ">- $1 <= nums.length <= 1000$  \n",
    ">- $-10^6 <= nums[i] <= 10^6$\n",
    "\n",
    "<style>\n",
    "table {display: inline-block}\n",
    "</style>"
   ]
  },
  {
   "cell_type": "code",
   "execution_count": 4,
   "id": "d35a0ced",
   "metadata": {},
   "outputs": [],
   "source": [
    "class Solution {\n",
    "    public int[] runningSum(int[] nums) {\n",
    "\n",
    "        int[] result = new int[nums.length];\n",
    "        \n",
    "        result[0] = nums[0];\n",
    "        for (int i = 1; i < nums.length; i++) {\n",
    "            // Result at index `i` is sum of result at `i-1` and element at `i`.\n",
    "            result[i] = result[i - 1] + nums[i];\n",
    "        }\n",
    "        \n",
    "        return result;\n",
    "    }\n",
    "}"
   ]
  },
  {
   "cell_type": "code",
   "execution_count": 6,
   "id": "473ca6c7",
   "metadata": {},
   "outputs": [
    {
     "name": "stdout",
     "output_type": "stream",
     "text": [
      "[1, 3, 6, 10]\n"
     ]
    }
   ],
   "source": [
    "Solution solution = new Solution();\n",
    "int[] input = {1,2,3,4};\n",
    "int[] result = solution.runningSum(input);\n",
    "\n",
    "System.out.println(Arrays.toString(result));"
   ]
  }
 ],
 "metadata": {
  "kernelspec": {
   "display_name": "Java",
   "language": "java",
   "name": "java"
  },
  "language_info": {
   "codemirror_mode": "java",
   "file_extension": ".jshell",
   "mimetype": "text/x-java-source",
   "name": "Java",
   "pygments_lexer": "java",
   "version": "11.0.17+8-post-Ubuntu-1ubuntu222.04"
  }
 },
 "nbformat": 4,
 "nbformat_minor": 5
}
