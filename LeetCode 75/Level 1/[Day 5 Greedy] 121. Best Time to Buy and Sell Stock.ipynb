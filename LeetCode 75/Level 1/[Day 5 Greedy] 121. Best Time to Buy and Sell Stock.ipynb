{
 "cells": [
  {
   "cell_type": "markdown",
   "id": "9a8792ad",
   "metadata": {},
   "source": [
    "### Best Time to Buy and Sell Stock\n",
    "---\n",
    "You are given an array prices where prices[i] is the price of a given stock on the ith day.\n",
    "\n",
    "You want to maximize your profit by choosing a single day to buy one stock and choosing a different day in the future to sell that stock.\n",
    "\n",
    "Return the maximum profit you can achieve from this transaction. If you cannot achieve any profit, return 0.\n",
    "\n",
    "|Input|Output|Explanation|\n",
    "|:--|:--|:--|\n",
    "|prices = [7,1,5,3,6,4]|5|Buy on day 2 (price = 1) and sell on day 5 (price = 6), profit = 6-1 = 5. Note that buying on day 2 and selling on day 1 is not allowed because you must buy before you sell.|\n",
    "|prices = [7,6,4,3,1]|0|In this case, no transactions are done and the max profit = 0.|\n",
    ">$Constraints:$  \n",
    ">- $1 <= prices.length <= 10^5$\n",
    ">- $0 <= prices[i] <= 10^4$"
   ]
  },
  {
   "cell_type": "code",
   "execution_count": 1,
   "id": "aeaaf86f",
   "metadata": {},
   "outputs": [],
   "source": [
    "import java.time.Duration;\n",
    "import java.time.Instant;\n",
    "\n",
    "class Solution {\n",
    "    public int maxProfit(int[] prices) {\n",
    "        int[] minArr = new int[prices.length];\n",
    "        minArr[0] = prices[0];\n",
    "        int[] maxArr = new int[prices.length];\n",
    "        maxArr[prices.length-1] = prices[prices.length-1];\n",
    "        int result = 0;\n",
    "\n",
    "        for(int i=1 ; i < prices.length; i++) {\n",
    "            minArr[i] = prices[i] < minArr[i-1] ? prices[i]: minArr[i-1];\n",
    "            maxArr[prices.length-i-1] = prices[prices.length-i] > maxArr[prices.length-i] ? prices[prices.length-i] : maxArr[prices.length-i];\n",
    "        }\n",
    "\n",
    "        for(int i=0 ; i < prices.length; i++) {\n",
    "            result = maxArr[i] - minArr[i] > result ? maxArr[i] - minArr[i] : result; \n",
    "        }\n",
    "        \n",
    "        return result;\n",
    "    }   \n",
    "}"
   ]
  },
  {
   "cell_type": "code",
   "execution_count": 7,
   "id": "ffafadb6",
   "metadata": {},
   "outputs": [
    {
     "data": {
      "text/plain": [
       "5"
      ]
     },
     "execution_count": 7,
     "metadata": {},
     "output_type": "execute_result"
    }
   ],
   "source": [
    "int[] prices = {7,1,5,3,6,4};\n",
    "Solution solution = new Solution();\n",
    "\n",
    "/* Measure execution time */\n",
    "Instant start = Instant.now();\n",
    "int result = solution.maxProfit(prices);\n",
    "Instant finish = Instant.now();\n",
    "result"
   ]
  },
  {
   "cell_type": "code",
   "execution_count": 8,
   "id": "7644bba4",
   "metadata": {},
   "outputs": [
    {
     "data": {
      "text/plain": [
       "20"
      ]
     },
     "execution_count": 8,
     "metadata": {},
     "output_type": "execute_result"
    }
   ],
   "source": [
    "Duration.between(start, finish).toMillis();"
   ]
  },
  {
   "attachments": {
    "image.png": {
     "image/png": "[encoded data removed]"
    }
   },
   "cell_type": "markdown",
   "id": "9bba645e",
   "metadata": {},
   "source": [
    "![image.png](attachment:image.png)"
   ]
  },
  {
   "cell_type": "markdown",
   "id": "a253ce67",
   "metadata": {},
   "source": [
    "### A easy O(N) java solution\n",
    "---"
   ]
  },
  {
   "cell_type": "code",
   "execution_count": 4,
   "id": "65b2cff6",
   "metadata": {},
   "outputs": [],
   "source": [
    "class DynamicProgramingSolution {\n",
    "    public int maxProfit(int[] prices) {\n",
    "        int max=0;\n",
    "        int count=0;\n",
    "        for(int i=0;i<prices.length-1;i++){\n",
    "            count=count+prices[i+1]-prices[i];\n",
    "            if(count<0)\n",
    "                count=0;\n",
    "            if(count>=max)\n",
    "                max=count;\n",
    "        }\n",
    "        return max;\n",
    "    }\n",
    "}"
   ]
  },
  {
   "cell_type": "code",
   "execution_count": 5,
   "id": "dfb3627b",
   "metadata": {},
   "outputs": [
    {
     "data": {
      "text/plain": [
       "5"
      ]
     },
     "execution_count": 5,
     "metadata": {},
     "output_type": "execute_result"
    }
   ],
   "source": [
    "DynamicProgramingSolution dynamicProgramingSolution = new DynamicProgramingSolution();\n",
    "\n",
    "/* Measure execution time */\n",
    "start = Instant.now();\n",
    "int dynamicProgramingResult = dynamicProgramingSolution.maxProfit(prices);\n",
    "finish = Instant.now();\n",
    "dynamicProgramingResult"
   ]
  },
  {
   "cell_type": "code",
   "execution_count": 6,
   "id": "e013c537",
   "metadata": {},
   "outputs": [
    {
     "data": {
      "text/plain": [
       "34"
      ]
     },
     "execution_count": 6,
     "metadata": {},
     "output_type": "execute_result"
    }
   ],
   "source": [
    "Duration.between(start, finish).toMillis();"
   ]
  }
 ],
 "metadata": {
  "kernelspec": {
   "display_name": "Java",
   "language": "java",
   "name": "java"
  },
  "language_info": {
   "codemirror_mode": "java",
   "file_extension": ".jshell",
   "mimetype": "text/x-java-source",
   "name": "Java",
   "pygments_lexer": "java",
   "version": "11.0.17+8-post-Ubuntu-1ubuntu222.04"
  }
 },
 "nbformat": 4,
 "nbformat_minor": 5
}
