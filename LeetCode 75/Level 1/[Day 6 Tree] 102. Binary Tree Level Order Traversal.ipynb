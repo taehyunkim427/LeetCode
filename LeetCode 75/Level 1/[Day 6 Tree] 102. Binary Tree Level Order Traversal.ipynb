{
 "cells": [
  {
   "cell_type": "markdown",
   "id": "35258a39",
   "metadata": {},
   "source": [
    "### Binary Tree Level Order Traversal\n",
    "---\n",
    "Given the root of a binary tree, return the level order traversal of its nodes' values. (i.e., from left to right, level by level).\n",
    "\n",
    "|Input|Output|Explanation|\n",
    "|:--|:--|:--|\n",
    "|root = [3,9,20,null,null,15,7]|[[3],[9,20],[15,7]]||\n",
    "|root = [1]|[[1]]||\n",
    "|root = []|[]||\n",
    ">$Constraints:$  \n",
    ">- $The$ $number$ $of$ $nodes$ $in$ $the$ $tree$ $is$ $in$ $the$ $range$ $[0, 2000].$\n",
    ">- $-1000 <= Node.val <= 1000$"
   ]
  },
  {
   "cell_type": "code",
   "execution_count": 1,
   "id": "f40d2cf0",
   "metadata": {},
   "outputs": [],
   "source": [
    "import java.time.Duration;\n",
    "import java.time.Instant;\n",
    "import java.util.Collections.*;\n",
    "import java.util.stream.*;\n",
    "\n",
    "class TreeNode {\n",
    "    int val;\n",
    "    TreeNode left;\n",
    "    TreeNode right;\n",
    "    TreeNode() {}\n",
    "    TreeNode(int val) { this.val = val; }\n",
    "    TreeNode(int val, TreeNode left, TreeNode right) {\n",
    "        this.val = val;\n",
    "        this.left = left;\n",
    "        this.right = right;\n",
    "    }\n",
    "}"
   ]
  },
  {
   "cell_type": "code",
   "execution_count": 2,
   "id": "57c0936b",
   "metadata": {},
   "outputs": [],
   "source": [
    "class Solution {\n",
    "    public List<List<Integer>> levelOrder(TreeNode root) {\n",
    "        List<List<Integer>> result = new ArrayList<>();\n",
    "        if(root == null) return result;\n",
    "        Queue<TreeNode> queue = new LinkedList<>();\n",
    "        queue.add(root);\n",
    "        result.add(new ArrayList(Arrays.asList(root.val)));\n",
    "        \n",
    "        while(!queue.isEmpty()){\n",
    "            TreeNode currentNode = queue.poll();\n",
    "            List<TreeNode> children = new ArrayList(Arrays.asList(currentNode.left, currentNode.right));\n",
    "            children.removeAll(Collections.singletonList(null));\n",
    "            if (!children.isEmpty()) {\n",
    "                children.stream().forEach(queue::add);\n",
    "                result.add(children.stream().map(x -> x.val).collect(Collectors.toList()));\n",
    "            }\n",
    "        }\n",
    "        return result;\n",
    "    }\n",
    "}"
   ]
  },
  {
   "cell_type": "code",
   "execution_count": 8,
   "id": "057dc925",
   "metadata": {},
   "outputs": [
    {
     "data": {
      "text/plain": [
       "[[1], [2, 3]]"
      ]
     },
     "execution_count": 8,
     "metadata": {},
     "output_type": "execute_result"
    }
   ],
   "source": [
    "List<List<Integer>> children = new ArrayList<>();\n",
    "TreeNode left = new TreeNode(2);\n",
    "TreeNode right = new TreeNode(3);\n",
    "TreeNode root = new TreeNode(1,left,right);\n",
    "Solution solution = new Solution();\n",
    "\n",
    "/* Measure execution time */\n",
    "Instant start = Instant.now();\n",
    "List<List<Integer>>  result = solution.levelOrder(root);\n",
    "Instant finish = Instant.now();\n",
    "result"
   ]
  },
  {
   "cell_type": "code",
   "execution_count": 9,
   "id": "40161b59",
   "metadata": {},
   "outputs": [
    {
     "data": {
      "text/plain": [
       "34"
      ]
     },
     "execution_count": 9,
     "metadata": {},
     "output_type": "execute_result"
    }
   ],
   "source": [
    "Duration.between(start, finish).toMillis();"
   ]
  },
  {
   "attachments": {
    "image.png": {
     "image/png": "[encoded data removed]"
    }
   },
   "cell_type": "markdown",
   "id": "5fde9d24",
   "metadata": {},
   "source": [
    "![image.png](attachment:image.png)"
   ]
  },
  {
   "cell_type": "markdown",
   "id": "81b21ffa",
   "metadata": {},
   "source": [
    "### Java Solution using DFS\n",
    "---"
   ]
  },
  {
   "cell_type": "code",
   "execution_count": 5,
   "id": "d6911f44",
   "metadata": {},
   "outputs": [],
   "source": [
    "class Solution {\n",
    "    public List<List<Integer>> levelOrder(TreeNode root) {\n",
    "        List<List<Integer>> res = new ArrayList<List<Integer>>();\n",
    "        levelHelper(res, root, 0);\n",
    "        return res;\n",
    "    }\n",
    "\n",
    "    public void levelHelper(List<List<Integer>> res, TreeNode root, int height) {\n",
    "        if (root == null) return;\n",
    "        if (height >= res.size()) {\n",
    "            res.add(new LinkedList<Integer>());\n",
    "        }\n",
    "        res.get(height).add(root.val);\n",
    "        levelHelper(res, root.left, height+1);\n",
    "        levelHelper(res, root.right, height+1);\n",
    "    }\n",
    "}"
   ]
  },
  {
   "cell_type": "code",
   "execution_count": 6,
   "id": "11484faf",
   "metadata": {},
   "outputs": [
    {
     "data": {
      "text/plain": [
       "[[1], [2, 3]]"
      ]
     },
     "execution_count": 6,
     "metadata": {},
     "output_type": "execute_result"
    }
   ],
   "source": [
    "Solution DfsSolution = new Solution();\n",
    "\n",
    "/* Measure execution time */\n",
    "start = Instant.now();\n",
    "List<List<Integer>> dfsResult = DfsSolution.levelOrder(root);\n",
    "finish = Instant.now();\n",
    "dfsResult"
   ]
  },
  {
   "cell_type": "code",
   "execution_count": 7,
   "id": "6ea7220d",
   "metadata": {},
   "outputs": [
    {
     "data": {
      "text/plain": [
       "30"
      ]
     },
     "execution_count": 7,
     "metadata": {},
     "output_type": "execute_result"
    }
   ],
   "source": [
    "Duration.between(start, finish).toMillis();"
   ]
  }
 ],
 "metadata": {
  "kernelspec": {
   "display_name": "Java",
   "language": "java",
   "name": "java"
  },
  "language_info": {
   "codemirror_mode": "java",
   "file_extension": ".jshell",
   "mimetype": "text/x-java-source",
   "name": "Java",
   "pygments_lexer": "java",
   "version": "11.0.17+8-post-Ubuntu-1ubuntu222.04"
  }
 },
 "nbformat": 4,
 "nbformat_minor": 5
}
