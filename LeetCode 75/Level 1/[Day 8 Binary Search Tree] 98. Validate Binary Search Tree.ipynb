{
 "cells": [
  {
   "cell_type": "markdown",
   "id": "21d71a91",
   "metadata": {},
   "source": [
    "### Validate Binary Search Tree\n",
    "---\n",
    "Given the root of a binary tree, determine if it is a valid binary search tree (BST).\n",
    "\n",
    "A valid BST is defined as follows:\n",
    "\n",
    "- The left subtree of a node contains only nodes with keys less than the node's key.\n",
    "- The right subtree of a node contains only nodes with keys greater than the node's key.\n",
    "- Both the left and right subtrees must also be binary search trees.\n",
    "\n",
    "|Input|Output|Explanation|\n",
    "|:--|:--|:--|\n",
    "|root = [2,1,3]|true||\n",
    "|root = [5,1,4,null,null,3,6]|false|The root node's value is 5 but its right child's value is 4.|\n",
    ">$Constraints:$  \n",
    ">- $The number of nodes in the tree is in the range [1, 10^4].$\n",
    ">- $-2^(31) <= Node.val <= 2^(31) - 1$"
   ]
  },
  {
   "cell_type": "code",
   "execution_count": 1,
   "id": "202b6def",
   "metadata": {},
   "outputs": [],
   "source": [
    "import java.time.Duration;\n",
    "import java.time.Instant;\n",
    "\n",
    "class TreeNode {\n",
    "    int val;\n",
    "    TreeNode left;\n",
    "    TreeNode right;\n",
    "    TreeNode() {}\n",
    "    TreeNode(int val) { this.val = val; }\n",
    "    TreeNode(int val, TreeNode left, TreeNode right) {\n",
    "        this.val = val;\n",
    "        this.left = left;\n",
    "        this.right = right;\n",
    "    }\n",
    "}"
   ]
  },
  {
   "cell_type": "code",
   "execution_count": 2,
   "id": "fe7665d9",
   "metadata": {},
   "outputs": [],
   "source": [
    "class Solution {\n",
    "    public boolean isValidBST(TreeNode root) {\n",
    "        Queue<CheckTree> queue = new LinkedList<>();\n",
    "        queue.add(new CheckTree(root, null, null));\n",
    "\n",
    "        while(!queue.isEmpty()){\n",
    "            CheckTree currentTree = queue.poll();\n",
    "            TreeNode currentNode = currentTree.node;\n",
    "\n",
    "            if(currentNode.left != null) {\n",
    "                if(currentNode.left.val < currentNode.val && (currentTree.min == null ||\n",
    "                    (currentTree.min != null && currentTree.min.intValue() < currentNode.left.val))) {\n",
    "                    queue.add((new CheckTree(currentNode.left, currentTree.min, currentNode.val)));\n",
    "                } else {\n",
    "                    return false;\n",
    "                }\n",
    "            }\n",
    "            \n",
    "            if(currentNode.right != null) {\n",
    "                if(currentNode.val < currentNode.right.val && (currentTree.max == null ||\n",
    "                (currentTree.max != null && currentTree.max.intValue() > currentNode.right.val))) {\n",
    "                    queue.add((new CheckTree(currentNode.right, currentNode.val, currentTree.max)));\n",
    "                } else {\n",
    "                    return false;\n",
    "                }\n",
    "                \n",
    "            }\n",
    "\n",
    "        }\n",
    "        return true;\n",
    "    }\n",
    "}\n"
   ]
  },
  {
   "cell_type": "code",
   "execution_count": 3,
   "id": "92c59f1e",
   "metadata": {},
   "outputs": [],
   "source": [
    "class CheckTree {\n",
    "    TreeNode node;\n",
    "    Integer min;\n",
    "    Integer max;\n",
    "\n",
    "    CheckTree (TreeNode node, Integer min, Integer max) {\n",
    "        this.node = node;\n",
    "        this.min = min;\n",
    "        this.max = max;\n",
    "    }\n",
    "}"
   ]
  },
  {
   "cell_type": "code",
   "execution_count": 9,
   "id": "9c97c35e",
   "metadata": {},
   "outputs": [
    {
     "data": {
      "text/plain": [
       "true"
      ]
     },
     "execution_count": 9,
     "metadata": {},
     "output_type": "execute_result"
    }
   ],
   "source": [
    "TreeNode root = new TreeNode(2, new TreeNode(1), new TreeNode(3));\n",
    "Solution solution = new Solution();\n",
    "\n",
    "/* Measure execution time */\n",
    "Instant start = Instant.now();\n",
    "boolean result = solution.isValidBST(root);\n",
    "Instant finish = Instant.now();\n",
    "result"
   ]
  },
  {
   "cell_type": "code",
   "execution_count": 10,
   "id": "f9f60e3e",
   "metadata": {},
   "outputs": [
    {
     "data": {
      "text/plain": [
       "20"
      ]
     },
     "execution_count": 10,
     "metadata": {},
     "output_type": "execute_result"
    }
   ],
   "source": [
    "Duration.between(start, finish).toMillis();"
   ]
  },
  {
   "attachments": {
    "image.png": {
     "image/png": "[encoded data removed]"
    }
   },
   "cell_type": "markdown",
   "id": "c7e3aa6c",
   "metadata": {},
   "source": [
    "![image.png](attachment:image.png)"
   ]
  },
  {
   "cell_type": "markdown",
   "id": "8cee3bff",
   "metadata": {},
   "source": [
    "### recursive solution\n",
    "---"
   ]
  },
  {
   "cell_type": "code",
   "execution_count": 6,
   "id": "dc535caa",
   "metadata": {},
   "outputs": [],
   "source": [
    "class RecursiveSolution {\n",
    "    public static boolean check(TreeNode root , TreeNode min , TreeNode max){\n",
    "        if(root == null ) return true;\n",
    "        \n",
    "        if(min!= null  && root.val<=min.val) return false;\n",
    "        else if(max!=null && root.val>=max.val) return false;\n",
    "        \n",
    "        return check(root.left,min,root ) && check(root.right , root,max);\n",
    "        }\n",
    "    \n",
    "    public boolean isValidBST(TreeNode root) {\n",
    "       return check(root,null,null);\n",
    "    }\n",
    "}"
   ]
  },
  {
   "cell_type": "code",
   "execution_count": 7,
   "id": "d4488814",
   "metadata": {},
   "outputs": [
    {
     "data": {
      "text/plain": [
       "true"
      ]
     },
     "execution_count": 7,
     "metadata": {},
     "output_type": "execute_result"
    }
   ],
   "source": [
    "RecursiveSolution recursiveSolution = new RecursiveSolution();\n",
    "\n",
    "/* Measure execution time */\n",
    "start = Instant.now();\n",
    "result = recursiveSolution.isValidBST(root);\n",
    "finish = Instant.now();\n",
    "result"
   ]
  },
  {
   "cell_type": "code",
   "execution_count": 8,
   "id": "f0b04daf",
   "metadata": {},
   "outputs": [
    {
     "data": {
      "text/plain": [
       "34"
      ]
     },
     "execution_count": 8,
     "metadata": {},
     "output_type": "execute_result"
    }
   ],
   "source": [
    "Duration.between(start, finish).toMillis();"
   ]
  }
 ],
 "metadata": {
  "kernelspec": {
   "display_name": "Java",
   "language": "java",
   "name": "java"
  },
  "language_info": {
   "codemirror_mode": "java",
   "file_extension": ".jshell",
   "mimetype": "text/x-java-source",
   "name": "Java",
   "pygments_lexer": "java",
   "version": "11.0.17+8-post-Ubuntu-1ubuntu222.04"
  }
 },
 "nbformat": 4,
 "nbformat_minor": 5
}
