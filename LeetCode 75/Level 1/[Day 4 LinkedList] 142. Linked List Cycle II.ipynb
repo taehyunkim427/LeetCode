{
 "cells": [
  {
   "cell_type": "markdown",
   "id": "78a5d018",
   "metadata": {},
   "source": [
    "### Linked List Cycle II\n",
    "---\n",
    "Given the head of a linked list, return the node where the cycle begins. If there is no cycle, return null.\n",
    "\n",
    "There is a cycle in a linked list if there is some node in the list that can be reached again by continuously following the next pointer. Internally, pos is used to denote the index of the node that tail's next pointer is connected to (0-indexed). It is -1 if there is no cycle. Note that pos is not passed as a parameter.\n",
    "\n",
    "Do not modify the linked list.\n",
    "\n",
    "|Input|Output|Explanation|\n",
    "|:--|:--|:--|\n",
    "|head = [3,2,0,-4], pos = 1|tail connects to node index 1|There is a cycle in the linked list, where tail connects to the second node.|\n",
    "|head = [1,2], pos = 0]|tail connects to node index 0|There is a cycle in the linked list, where tail connects to the first node.|\n",
    "|head = [1], pos = -1]|no cycle|There is no cycle in the linked list.|\n",
    ">$Constraints:$  \n",
    ">- $The$ $number$ $of$ $the$ $nodes$ $in$ $the$ $list$ $is$ $in$ $the$ $range$ $[0, 10^4].$\n",
    ">- $-10^5 <= Node.val <= 10^5$\n",
    ">- $pos$ $is$ $-1$ $or$ $a$ $valid$ $index$ $in$ $the$ $linked$ $list.$"
   ]
  },
  {
   "cell_type": "code",
   "execution_count": 1,
   "id": "9badab32",
   "metadata": {},
   "outputs": [],
   "source": [
    "import java.time.Duration;\n",
    "import java.time.Instant;\n",
    "\n",
    "class ListNode {\n",
    "  int val;\n",
    "  ListNode next;\n",
    "  ListNode() {}\n",
    "  ListNode(int val) { this.val = val; }\n",
    "  ListNode(int val, ListNode next) { this.val = val; this.next = next; }\n",
    "}\n",
    "\n",
    "class Solution {\n",
    "    public ListNode detectCycle(ListNode head) {\n",
    "\n",
    "        if(head == null) return null;\n",
    "        if(head.next == null) return null;\n",
    "        \n",
    "        Set<ListNode> listSet = new HashSet<>();\n",
    "\n",
    "        while(true){\n",
    "            if(head.next == null) return null;\n",
    "            if(!listSet.add(head)) return head;\n",
    "            head = head.next;\n",
    "        }\n",
    "    }\n",
    "}"
   ]
  },
  {
   "cell_type": "code",
   "execution_count": 7,
   "id": "5dd4ca02",
   "metadata": {},
   "outputs": [],
   "source": [
    "ListNode list1 = new ListNode(0);\n",
    "Solution solution = new Solution();\n",
    "\n",
    "/* Measure execution time */\n",
    "Instant start = Instant.now();\n",
    "ListNode result = solution.detectCycle(list1);\n",
    "Instant finish = Instant.now();"
   ]
  },
  {
   "cell_type": "code",
   "execution_count": 8,
   "id": "444d4aea",
   "metadata": {},
   "outputs": [
    {
     "data": {
      "text/plain": [
       "21"
      ]
     },
     "execution_count": 8,
     "metadata": {},
     "output_type": "execute_result"
    }
   ],
   "source": [
    "Duration.between(start, finish).toMillis();"
   ]
  },
  {
   "attachments": {
    "image.png": {
     "image/png": "[encoded data removed]"
    }
   },
   "cell_type": "markdown",
   "id": "2a531c04",
   "metadata": {},
   "source": [
    "![image.png](attachment:image.png)"
   ]
  },
  {
   "cell_type": "code",
   "execution_count": 4,
   "id": "aebab9a6",
   "metadata": {},
   "outputs": [],
   "source": [
    "class DoublePointerSolution {\n",
    "    public ListNode detectCycle(ListNode head) {\n",
    "        ListNode slow = head, fast = head;\n",
    "        while(fast != null && fast.next != null) {\n",
    "            fast = fast.next.next;\n",
    "            slow = slow.next;\n",
    "            if (slow == fast) {\n",
    "                while (head != slow) {\n",
    "                    head = head.next;\n",
    "                    slow = slow.next;\n",
    "                }\n",
    "                return slow;\t\t\t\t\n",
    "            }\n",
    "        }\t\t\t\n",
    "        return null;\n",
    "    }\n",
    "}"
   ]
  },
  {
   "cell_type": "code",
   "execution_count": 5,
   "id": "c7b41da3",
   "metadata": {},
   "outputs": [],
   "source": [
    "DoublePointerSolution doublePointerSolution = new DoublePointerSolution();\n",
    "\n",
    "/* Measure execution time */\n",
    "start = Instant.now();\n",
    "ListNode pointerResult = doublePointerSolution.detectCycle(list1);\n",
    "finish = Instant.now();"
   ]
  },
  {
   "cell_type": "code",
   "execution_count": 6,
   "id": "1f3f7ecb",
   "metadata": {},
   "outputs": [
    {
     "data": {
      "text/plain": [
       "42"
      ]
     },
     "execution_count": 6,
     "metadata": {},
     "output_type": "execute_result"
    }
   ],
   "source": [
    "Duration.between(start, finish).toMillis();"
   ]
  }
 ],
 "metadata": {
  "kernelspec": {
   "display_name": "Java",
   "language": "java",
   "name": "java"
  },
  "language_info": {
   "codemirror_mode": "java",
   "file_extension": ".jshell",
   "mimetype": "text/x-java-source",
   "name": "Java",
   "pygments_lexer": "java",
   "version": "11.0.17+8-post-Ubuntu-1ubuntu222.04"
  }
 },
 "nbformat": 4,
 "nbformat_minor": 5
}
