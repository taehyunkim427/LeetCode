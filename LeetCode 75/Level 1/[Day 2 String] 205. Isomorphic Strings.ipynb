{
 "cells": [
  {
   "cell_type": "markdown",
   "id": "89224bc2",
   "metadata": {},
   "source": [
    "### Isomorphic Strings\n",
    "---\n",
    "Given two strings s and t, determine if they are isomorphic.\n",
    "\n",
    "Two strings s and t are isomorphic if the characters in s can be replaced to get t.\n",
    "\n",
    "All occurrences of a character must be replaced with another character while preserving the order of characters. No two characters may map to the same character, but a character may map to itself.\n",
    "\n",
    "|Input|Output|Explanation|\n",
    "|:--|:--|:--|\n",
    "|s = \"egg\", t = \"add\"|true||\n",
    "|s = \"foo\", t = \"bar\"|false||\n",
    "|s = \"paper\", t = \"title\"|true||\n",
    "\n",
    ">$Constraints:$  \n",
    ">- $1 <= s.length <= 5 * 10^4$  \n",
    ">- $t.length == s.length$\n",
    ">- s $and$ t $consist$ $of$ $any$ $valid$ $ascii$ $character.$"
   ]
  },
  {
   "cell_type": "code",
   "execution_count": 7,
   "id": "6d8a7380",
   "metadata": {},
   "outputs": [],
   "source": [
    "import java.time.Duration;\n",
    "import java.time.Instant;\n",
    "\n",
    "public class Solution {\n",
    "    public boolean isIsomorphic(String s, String t) {\n",
    "        boolean result = true;\n",
    "        HashMap<Character,Character> leftMap = new HashMap<>();\n",
    "        HashMap<Character,Character> rightMap = new HashMap<>();\n",
    "        for(int i = 0; i < s.length(); i++){\n",
    "            if(leftMap.get(s.charAt(i)) == null) {\n",
    "                leftMap.put(s.charAt(i),t.charAt(i));\n",
    "            } else if(leftMap.get(s.charAt(i)) != t.charAt(i)) {\n",
    "                return false;\n",
    "            }\n",
    "\n",
    "            if(rightMap.get(t.charAt(i)) == null) {\n",
    "                rightMap.put(t.charAt(i),s.charAt(i));\n",
    "            } else if(rightMap.get(t.charAt(i)) != s.charAt(i)) {\n",
    "                return false;\n",
    "            } \n",
    "\n",
    "        }\n",
    "        return result;\n",
    "    }\n",
    "}"
   ]
  },
  {
   "cell_type": "code",
   "execution_count": 8,
   "id": "ef0ae84b",
   "metadata": {},
   "outputs": [
    {
     "data": {
      "text/plain": [
       "true"
      ]
     },
     "execution_count": 8,
     "metadata": {},
     "output_type": "execute_result"
    }
   ],
   "source": [
    "Solution solution = new Solution();\n",
    "\n",
    "/* Measure execution time */\n",
    "Instant start = Instant.now();\n",
    "Boolean result = solution.isIsomorphic(\"egg\",\"add\");\n",
    "Instant finish = Instant.now();\n",
    "result"
   ]
  },
  {
   "cell_type": "code",
   "execution_count": 9,
   "id": "5f83f9e8",
   "metadata": {},
   "outputs": [
    {
     "data": {
      "text/plain": [
       "20"
      ]
     },
     "execution_count": 9,
     "metadata": {},
     "output_type": "execute_result"
    }
   ],
   "source": [
    "Duration.between(start, finish).toMillis()"
   ]
  },
  {
   "cell_type": "markdown",
   "id": "d024fa02",
   "metadata": {},
   "source": [
    " ### 5 lines simple Java\n",
    " ---"
   ]
  },
  {
   "cell_type": "code",
   "execution_count": 4,
   "id": "849da314",
   "metadata": {},
   "outputs": [],
   "source": [
    "public class SimpleSolution {\n",
    "    public boolean isIsomorphic(String s, String t) {\n",
    "        Map m = new HashMap();\n",
    "        for (Integer i=0; i<s.length(); ++i)\n",
    "            if (m.put(s.charAt(i), i) != m.put(t.charAt(i)+\"\", i))\n",
    "                return false;\n",
    "        return true;\n",
    "    }\n",
    "}"
   ]
  },
  {
   "cell_type": "code",
   "execution_count": 5,
   "id": "35dd4513",
   "metadata": {},
   "outputs": [
    {
     "data": {
      "text/plain": [
       "true"
      ]
     },
     "execution_count": 5,
     "metadata": {},
     "output_type": "execute_result"
    }
   ],
   "source": [
    "SimpleSolution simpleSolution = new SimpleSolution();\n",
    "\n",
    "/* Measure execution time */\n",
    "start = Instant.now();\n",
    "Boolean simpleResult = simpleSolution.isIsomorphic(\"egg\",\"add\");\n",
    "finish = Instant.now();\n",
    "simpleResult"
   ]
  },
  {
   "cell_type": "code",
   "execution_count": 6,
   "id": "8457d54e",
   "metadata": {},
   "outputs": [
    {
     "data": {
      "text/plain": [
       "33"
      ]
     },
     "execution_count": 6,
     "metadata": {},
     "output_type": "execute_result"
    }
   ],
   "source": [
    "Duration.between(start, finish).toMillis()"
   ]
  }
 ],
 "metadata": {
  "kernelspec": {
   "display_name": "Java",
   "language": "java",
   "name": "java"
  },
  "language_info": {
   "codemirror_mode": "java",
   "file_extension": ".jshell",
   "mimetype": "text/x-java-source",
   "name": "Java",
   "pygments_lexer": "java",
   "version": "11.0.17+8-post-Ubuntu-1ubuntu222.04"
  }
 },
 "nbformat": 4,
 "nbformat_minor": 5
}
