{
 "cells": [
  {
   "cell_type": "markdown",
   "id": "89224bc2",
   "metadata": {},
   "source": [
    "### Isomorphic Strings\n",
    "---\n",
    "Given two strings s and t, determine if they are isomorphic.\n",
    "\n",
    "Two strings s and t are isomorphic if the characters in s can be replaced to get t.\n",
    "\n",
    "All occurrences of a character must be replaced with another character while preserving the order of characters. No two characters may map to the same character, but a character may map to itself.\n",
    "\n",
    "|Input|Output|Explanation|\n",
    "|:--|:--|:--|\n",
    "|s = \"egg\", t = \"add\"|true||\n",
    "|s = \"foo\", t = \"bar\"|false||\n",
    "|s = \"paper\", t = \"title\"|true||\n",
    "\n",
    ">$Constraints:$  \n",
    ">- $1 <= s.length <= 5 * 10^4$  \n",
    ">- $t.length == s.length$\n",
    ">- s $and$ t $consist$ $of$ $any$ $valid$ $ascii$ $character.$"
   ]
  },
  {
   "cell_type": "code",
   "execution_count": 47,
   "id": "6d8a7380",
   "metadata": {},
   "outputs": [],
   "source": [
    "class Solution {\n",
    "    public boolean isIsomorphic(String s, String t) {\n",
    "        boolean result = true;\n",
    "        HashMap<Character,Character> leftMap = new HashMap<>();\n",
    "        HashMap<Character,Character> rightMap = new HashMap<>();\n",
    "        for(int i = 0; i < s.length(); i++){\n",
    "            if(leftMap.get(s.charAt(i)) == null) {\n",
    "                leftMap.put(s.charAt(i),t.charAt(i));\n",
    "            } else if(leftMap.get(s.charAt(i)) != t.charAt(i)) {\n",
    "                return false;\n",
    "            }\n",
    "\n",
    "            if(rightMap.get(t.charAt(i)) == null) {\n",
    "                rightMap.put(t.charAt(i),s.charAt(i));\n",
    "            } else if(rightMap.get(t.charAt(i)) != s.charAt(i)) {\n",
    "                return false;\n",
    "            } \n",
    "\n",
    "        }\n",
    "        return result;\n",
    "    }\n",
    "}"
   ]
  },
  {
   "cell_type": "code",
   "execution_count": 49,
   "id": "ef0ae84b",
   "metadata": {},
   "outputs": [
    {
     "data": {
      "text/plain": [
       "true"
      ]
     },
     "execution_count": 49,
     "metadata": {},
     "output_type": "execute_result"
    }
   ],
   "source": [
    "Solution sol = new Solution();\n",
    "String s = \"egg\";\n",
    "String t = \"add\";\n",
    "sol.isIsomorphic(s,t);"
   ]
  },
  {
   "cell_type": "markdown",
   "id": "d024fa02",
   "metadata": {},
   "source": [
    " ### 5 lines simple Java\n",
    " ---"
   ]
  },
  {
   "cell_type": "code",
   "execution_count": 61,
   "id": "849da314",
   "metadata": {},
   "outputs": [],
   "source": [
    "class Solution {\n",
    "    public boolean isIsomorphic(String s, String t) {\n",
    "        Map m = new HashMap();\n",
    "        for (Integer i=0; i<s.length(); ++i)\n",
    "            if (m.put(s.charAt(i), i) != m.put(t.charAt(i)+\"\", i))\n",
    "                return false;\n",
    "            m.forEach((k,v)-> System.out.println(\"key: \"+k+\"   value: \" +v));\n",
    "        return true;\n",
    "    }\n",
    "}"
   ]
  },
  {
   "cell_type": "code",
   "execution_count": 62,
   "id": "35dd4513",
   "metadata": {},
   "outputs": [
    {
     "name": "stdout",
     "output_type": "stream",
     "text": [
      "key: a   value: 0\n",
      "key: d   value: 2\n",
      "key: e   value: 0\n",
      "key: g   value: 2\n"
     ]
    },
    {
     "data": {
      "text/plain": [
       "true"
      ]
     },
     "execution_count": 62,
     "metadata": {},
     "output_type": "execute_result"
    }
   ],
   "source": [
    "Solution sol = new Solution();\n",
    "String s = \"egg\";\n",
    "String t = \"add\";\n",
    "sol.isIsomorphic(s,t);"
   ]
  }
 ],
 "metadata": {
  "kernelspec": {
   "display_name": "Java",
   "language": "java",
   "name": "java"
  },
  "language_info": {
   "codemirror_mode": "java",
   "file_extension": ".jshell",
   "mimetype": "text/x-java-source",
   "name": "Java",
   "pygments_lexer": "java",
   "version": "11.0.17+8-post-Ubuntu-1ubuntu222.04"
  }
 },
 "nbformat": 4,
 "nbformat_minor": 5
}
