{
 "cells": [
  {
   "cell_type": "markdown",
   "id": "2d838873",
   "metadata": {},
   "source": [
    "### N-ary Tree Preorder Traversal\n",
    "---\n",
    "Given the root of an n-ary tree, return the preorder traversal of its nodes' values.\n",
    "\n",
    "Nary-Tree input serialization is represented in their level order traversal. Each group of children is separated by the null value (See examples)\n",
    "\n",
    "|Input|Output|Explanation|\n",
    "|:--|:--|:--|\n",
    "|root = [1,null,3,2,4,null,5,6]|[1,3,5,6,2,4]||\n",
    "|root = [1,null,2,3,4,5,null,null,6,7,null,8,null,9,10,null,null,11,null,12,null,13,null,null,14]|[1,2,3,6,7,11,14,4,8,12,5,9,13,10]||\n",
    ">$Constraints:$  \n",
    ">- $The$ $number$ $of$ $nodes$ $in$ $the$ $tree$ $is$ $in$ $the$ $range$ $[0, 10^4].$\n",
    ">- $0 <= Node.val <= 10^4$\n",
    ">- $The$ $height$ $of$ $the$ $n-ary$ $tree$ $is$ $less$ $than$ $or$ $equal$ $to$ $1000.$"
   ]
  },
  {
   "cell_type": "code",
   "execution_count": 1,
   "id": "5177a272",
   "metadata": {},
   "outputs": [],
   "source": [
    "import java.util.Collections.*;\n",
    "import java.util.stream.*;\n",
    "import java.time.Duration;\n",
    "import java.time.Instant;\n",
    "\n",
    "// Definition for a Node.\n",
    "class Node {\n",
    "    public int val;\n",
    "    public List<Node> children;\n",
    "\n",
    "    public Node() {}\n",
    "\n",
    "    public Node(int _val) {\n",
    "        val = _val;\n",
    "    }\n",
    "\n",
    "    public Node(int _val, List<Node> _children) {\n",
    "        val = _val;\n",
    "        children = _children;\n",
    "    }\n",
    "};"
   ]
  },
  {
   "cell_type": "code",
   "execution_count": 2,
   "id": "fd8f09ab",
   "metadata": {},
   "outputs": [],
   "source": [
    "class Solution {\n",
    "    public List<Integer> preorder(Node root) {\n",
    "        List<Integer> result = new ArrayList<>();\n",
    "        if(root == null) return result;\n",
    "        Stack<Node> stack = new Stack<>();\n",
    "        stack.push(root);\n",
    "\n",
    "        while(!stack.isEmpty()){\n",
    "            Node currentNode = stack.pop();\n",
    "            result.add(currentNode.val);\n",
    "            Collections.reverse(currentNode.children);\n",
    "            currentNode.children.forEach(stack::add);\n",
    "        }\n",
    "        return result;\n",
    "    }\n",
    "}"
   ]
  },
  {
   "cell_type": "code",
   "execution_count": 9,
   "id": "73df7807",
   "metadata": {},
   "outputs": [
    {
     "data": {
      "text/plain": [
       "[1, 3, 2, 4]"
      ]
     },
     "execution_count": 9,
     "metadata": {},
     "output_type": "execute_result"
    }
   ],
   "source": [
    "List<Node> children = new ArrayList<>();\n",
    "children.add(new Node(3, new ArrayList<Node>()));\n",
    "children.add(new Node(2, new ArrayList<Node>()));\n",
    "children.add(new Node(4, new ArrayList<Node>()));\n",
    "\n",
    "Node root = new Node(1,children);\n",
    "\n",
    "Solution solution = new Solution();\n",
    "\n",
    "/* Measure execution time */\n",
    "Instant start = Instant.now();\n",
    "List<Integer> result = solution.preorder(root);\n",
    "Instant finish = Instant.now();\n",
    "result"
   ]
  },
  {
   "cell_type": "code",
   "execution_count": 10,
   "id": "c7bd2377",
   "metadata": {},
   "outputs": [
    {
     "data": {
      "text/plain": [
       "19"
      ]
     },
     "execution_count": 10,
     "metadata": {},
     "output_type": "execute_result"
    }
   ],
   "source": [
    "Duration.between(start, finish).toMillis();"
   ]
  },
  {
   "attachments": {
    "image.png": {
     "image/png": "[encoded data removed]"
    }
   },
   "cell_type": "markdown",
   "id": "2f92168e",
   "metadata": {},
   "source": [
    "![image.png](attachment:image.png)"
   ]
  },
  {
   "cell_type": "markdown",
   "id": "1f466f88",
   "metadata": {},
   "source": [
    "### Recursive Solution\n",
    "---"
   ]
  },
  {
   "cell_type": "code",
   "execution_count": 5,
   "id": "3ff061b7",
   "metadata": {},
   "outputs": [],
   "source": [
    "class recursiveSolution {\n",
    "    public List<Integer> list = new ArrayList<>();\n",
    "    public List<Integer> preorder(Node root) {\n",
    "        if (root == null)\n",
    "            return list;\n",
    "        \n",
    "        list.add(root.val);\n",
    "        for(Node node: root.children)\n",
    "            preorder(node);\n",
    "                \n",
    "        return list;\n",
    "    }\n",
    "}"
   ]
  },
  {
   "cell_type": "code",
   "execution_count": 8,
   "id": "ca5ad005",
   "metadata": {},
   "outputs": [
    {
     "data": {
      "text/plain": [
       "[1, 3, 2, 4]"
      ]
     },
     "execution_count": 8,
     "metadata": {},
     "output_type": "execute_result"
    }
   ],
   "source": [
    "Solution recursiveSolution = new Solution();\n",
    "\n",
    "/* Measure execution time */\n",
    "start = Instant.now();\n",
    "List<Integer> recursiveResult = recursiveSolution.preorder(root);\n",
    "finish = Instant.now();\n",
    "recursiveResult"
   ]
  },
  {
   "cell_type": "code",
   "execution_count": 7,
   "id": "36300c74",
   "metadata": {},
   "outputs": [
    {
     "data": {
      "text/plain": [
       "33"
      ]
     },
     "execution_count": 7,
     "metadata": {},
     "output_type": "execute_result"
    }
   ],
   "source": [
    "Duration.between(start, finish).toMillis();"
   ]
  }
 ],
 "metadata": {
  "kernelspec": {
   "display_name": "Java",
   "language": "java",
   "name": "java"
  },
  "language_info": {
   "codemirror_mode": "java",
   "file_extension": ".jshell",
   "mimetype": "text/x-java-source",
   "name": "Java",
   "pygments_lexer": "java",
   "version": "11.0.17+8-post-Ubuntu-1ubuntu222.04"
  }
 },
 "nbformat": 4,
 "nbformat_minor": 5
}
