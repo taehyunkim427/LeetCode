{
 "cells": [
  {
   "cell_type": "markdown",
   "id": "3fb54123",
   "metadata": {},
   "source": [
    "### Find Pivot Index\n",
    "---\n",
    "Given an array of integers nums, calculate the pivot index of this array.\n",
    "\n",
    "The pivot index is the index where the sum of all the numbers strictly to the left of the index is equal to the sum of all the numbers strictly to the index's right.\n",
    "\n",
    "If the index is on the left edge of the array, then the left sum is 0 because there are no elements to the left. This also applies to the right edge of the array.\n",
    "\n",
    "Return the leftmost pivot index. If no such index exists, return -1.\n",
    "\n",
    "|Input|Output|Explanation|\n",
    "|:--|:--|:--|\n",
    "|[1,7,3,6,5,6]|3|The pivot index is 3.Left sum = nums[0] + nums[1] + nums[2] = 1 + 7 + 3 = 11 Right sum = nums[4] + nums[5] = 5 + 6 = 11|\n",
    "|[1,2,3]|-1|There is no index that satisfies the conditions in the problem statement.|\n",
    "|[2,1,-1]|0|The pivot index is 0. Left sum = 0 (no elements to the left of index 0) Right sum = nums[1] + nums[2] = 1 + -1 = 0|\n",
    "\n",
    ">$Constraints:$  \n",
    ">- $1 <= nums.length <= 10^4$ \n",
    ">- $-1000 <= nums[i] <= 1000$"
   ]
  },
  {
   "cell_type": "code",
   "execution_count": 1,
   "id": "dcdbac01",
   "metadata": {},
   "outputs": [],
   "source": [
    "import java.time.Duration;\n",
    "import java.time.Instant;\n",
    "import java.util.stream.IntStream;\n",
    "\n",
    "class Solution {\n",
    "    public int pivotIndex(int[] nums) {\n",
    "        \n",
    "        int result = -1;\n",
    "        int rightSum = IntStream.of(nums).parallel().sum();\n",
    "        int leftSum = 0;\n",
    "\n",
    "        for (int i = 0; i < nums.length ; i++) {\n",
    "            rightSum -= nums[i];\n",
    "            if (rightSum == leftSum){\n",
    "                result = i;\n",
    "                break;\n",
    "            }\n",
    "            leftSum += nums[i];\n",
    "        }\n",
    "        \n",
    "        return result;\n",
    "    }\n",
    "}"
   ]
  },
  {
   "cell_type": "code",
   "execution_count": 4,
   "id": "5dfbf321",
   "metadata": {},
   "outputs": [
    {
     "data": {
      "text/plain": [
       "3"
      ]
     },
     "execution_count": 4,
     "metadata": {},
     "output_type": "execute_result"
    }
   ],
   "source": [
    "Solution solution = new Solution();\n",
    "int[] nums = {1,7,3,6,5,6};\n",
    "\n",
    "/* Measure execution time */\n",
    "Instant start = Instant.now();\n",
    "int result = solution.pivotIndex(nums);\n",
    "Instant finish = Instant.now();\n",
    "\n",
    "result"
   ]
  },
  {
   "cell_type": "code",
   "execution_count": 5,
   "id": "6dc98b9c",
   "metadata": {},
   "outputs": [
    {
     "data": {
      "text/plain": [
       "22"
      ]
     },
     "execution_count": 5,
     "metadata": {},
     "output_type": "execute_result"
    }
   ],
   "source": [
    "Duration.between(start, finish).toMillis();"
   ]
  }
 ],
 "metadata": {
  "kernelspec": {
   "display_name": "Java",
   "language": "java",
   "name": "java"
  },
  "language_info": {
   "codemirror_mode": "java",
   "file_extension": ".jshell",
   "mimetype": "text/x-java-source",
   "name": "Java",
   "pygments_lexer": "java",
   "version": "11.0.17+8-post-Ubuntu-1ubuntu222.04"
  }
 },
 "nbformat": 4,
 "nbformat_minor": 5
}
