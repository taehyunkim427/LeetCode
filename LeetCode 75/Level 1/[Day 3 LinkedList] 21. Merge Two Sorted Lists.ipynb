{
 "cells": [
  {
   "attachments": {},
   "cell_type": "markdown",
   "id": "6b8b2658",
   "metadata": {},
   "source": [
    "### Merge Two Sorted Lists\n",
    "---\n",
    "You are given the heads of two sorted linked lists list1 and list2.\n",
    "\n",
    "Merge the two lists in a one sorted list. The list should be made by splicing together the nodes of the first two lists.\n",
    "\n",
    "Return the head of the merged linked list.\n",
    "\n",
    "|Input|Output|Explanation|\n",
    "|:--|:--|:--|\n",
    "|list1 = [1,2,4], list2 = [1,3,4]|[1,1,2,3,4,4]||\n",
    "|list1 = [], list2 = []|[]||\n",
    "|list1 = [], list2 = [0]|[0]||\n",
    "\n",
    "\n",
    ">$Constraints:$  \n",
    ">- $0 <= s.length <= 100$  \n",
    ">- $0 <= t.length <= 10^4$\n",
    ">- s $and$ t $consist$ $of$ $lowercase$ $English$ $letters.$"
   ]
  },
  {
   "cell_type": "code",
   "execution_count": null,
   "id": "260e7dfc",
   "metadata": {},
   "outputs": [],
   "source": []
  }
 ],
 "metadata": {
  "kernelspec": {
   "display_name": "Java",
   "language": "java",
   "name": "java"
  },
  "language_info": {
   "codemirror_mode": "java",
   "file_extension": ".jshell",
   "mimetype": "text/x-java-source",
   "name": "Java",
   "pygments_lexer": "java",
   "version": "11.0.17+8-post-Ubuntu-1ubuntu222.04"
  }
 },
 "nbformat": 4,
 "nbformat_minor": 5
}
