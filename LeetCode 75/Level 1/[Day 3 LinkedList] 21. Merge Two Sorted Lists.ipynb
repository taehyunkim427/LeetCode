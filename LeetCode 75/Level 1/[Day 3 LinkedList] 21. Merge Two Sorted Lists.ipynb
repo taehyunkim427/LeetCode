{
 "cells": [
  {
   "cell_type": "markdown",
   "id": "6b8b2658",
   "metadata": {},
   "source": [
    "### Merge Two Sorted Lists\n",
    "---\n",
    "You are given the heads of two sorted linked lists list1 and list2.\n",
    "\n",
    "Merge the two lists in a one sorted list. The list should be made by splicing together the nodes of the first two lists.\n",
    "\n",
    "Return the head of the merged linked list.\n",
    "\n",
    "|Input|Output|Explanation|\n",
    "|:--|:--|:--|\n",
    "|list1 = [1,2,4], list2 = [1,3,4]|[1,1,2,3,4,4]||\n",
    "|list1 = [], list2 = []|[]||\n",
    "|list1 = [], list2 = [0]|[0]||\n",
    "\n",
    "\n",
    ">$Constraints:$  \n",
    ">- $0 <= s.length <= 100$  \n",
    ">- $0 <= t.length <= 10^4$\n",
    ">- s $and$ t $consist$ $of$ $lowercase$ $English$ $letters.$"
   ]
  },
  {
   "cell_type": "code",
   "execution_count": 6,
   "id": "260e7dfc",
   "metadata": {},
   "outputs": [],
   "source": [
    "import java.time.Duration;\n",
    "import java.time.Instant;\n",
    "\n",
    "public class ListNode {\n",
    "  int val;\n",
    "  ListNode next;\n",
    "  ListNode() {}\n",
    "  ListNode(int val) { this.val = val; }\n",
    "  ListNode(int val, ListNode next) { this.val = val; this.next = next; }\n",
    "}\n",
    "\n",
    "public class Solution {\n",
    "    public ListNode mergeTwoLists(ListNode list1, ListNode list2) {\n",
    "        ListNode resultHead = new ListNode();\n",
    "        ListNode resultNode = resultHead;\n",
    "        \n",
    "        while(list1 != null && list2 != null) {\n",
    "            \n",
    "            /* 1. If the val of list1 is large */\n",
    "            if(list1.val <= list2.val) {\n",
    "                resultNode.next = list1;\n",
    "                list1 = list1.next;\n",
    "            /* 2. lf the val of list2 is large */\n",
    "            } else {\n",
    "                resultNode.next = list2;\n",
    "                list2 = list2.next;\n",
    "            }\n",
    "            resultNode = resultNode.next;\n",
    "        }\n",
    "\n",
    "        if (list1 == null) resultNode.next = list2;\n",
    "        if (list2 == null) resultNode.next = list1;\n",
    "\n",
    "        return resultHead.next;\n",
    "    }\n",
    "}"
   ]
  },
  {
   "cell_type": "code",
   "execution_count": 7,
   "id": "35b2c6c4",
   "metadata": {},
   "outputs": [
    {
     "data": {
      "text/plain": [
       "18"
      ]
     },
     "execution_count": 7,
     "metadata": {},
     "output_type": "execute_result"
    }
   ],
   "source": [
    "ListNode list1 = new ListNode(0);\n",
    "ListNode list2 = new ListNode(0);\n",
    "Solution solution = new Solution();\n",
    "\n",
    "/* Measure execution time */\n",
    "Instant start = Instant.now();\n",
    "ListNode result = solution.mergeTwoLists(list1, list2);\n",
    "Instant finish = Instant.now();\n",
    "\n",
    "Duration.between(start, finish).toMillis();"
   ]
  },
  {
   "cell_type": "markdown",
   "id": "d64790c2",
   "metadata": {},
   "source": [
    "### Java, 1 ms, 4 lines codes, using recursion\n",
    "---"
   ]
  },
  {
   "cell_type": "code",
   "execution_count": 3,
   "id": "4c710475",
   "metadata": {},
   "outputs": [],
   "source": [
    "public class RecursiveSolution {\n",
    "    public ListNode mergeTwoLists(ListNode l1, ListNode l2){\n",
    "            if(l1 == null) return l2;\n",
    "            if(l2 == null) return l1;\n",
    "            if(l1.val < l2.val){\n",
    "                l1.next = mergeTwoLists(l1.next, l2);\n",
    "                return l1;\n",
    "            } else{\n",
    "                l2.next = mergeTwoLists(l1, l2.next);\n",
    "                return l2;\n",
    "            }\n",
    "    }\n",
    "}"
   ]
  },
  {
   "cell_type": "code",
   "execution_count": 4,
   "id": "5e34e289",
   "metadata": {},
   "outputs": [],
   "source": [
    "RecursiveSolution recursiveSolution = new RecursiveSolution();\n",
    "\n",
    "/* Measure execution time */\n",
    "start = Instant.now();\n",
    "ListNode recursiveResult = recursiveSolution.mergeTwoLists(list1, list2);\n",
    "finish = Instant.now();"
   ]
  },
  {
   "cell_type": "code",
   "execution_count": 5,
   "id": "8d152cbb",
   "metadata": {},
   "outputs": [
    {
     "data": {
      "text/plain": [
       "39"
      ]
     },
     "execution_count": 5,
     "metadata": {},
     "output_type": "execute_result"
    }
   ],
   "source": [
    "Duration.between(start, finish).toMillis();"
   ]
  }
 ],
 "metadata": {
  "kernelspec": {
   "display_name": "Java",
   "language": "java",
   "name": "java"
  },
  "language_info": {
   "codemirror_mode": "java",
   "file_extension": ".jshell",
   "mimetype": "text/x-java-source",
   "name": "Java",
   "pygments_lexer": "java",
   "version": "11.0.17+8-post-Ubuntu-1ubuntu222.04"
  }
 },
 "nbformat": 4,
 "nbformat_minor": 5
}
