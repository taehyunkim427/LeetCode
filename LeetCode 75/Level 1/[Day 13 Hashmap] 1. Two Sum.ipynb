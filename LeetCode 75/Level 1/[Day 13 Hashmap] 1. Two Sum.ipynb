{
 "cells": [
  {
   "cell_type": "markdown",
   "id": "cf014ff0",
   "metadata": {},
   "source": [
    "### Two Sum\n",
    "---\n",
    "Given an array of integers nums and an integer target, return indices of the two numbers such that they add up to target.\n",
    "\n",
    "You may assume that each input would have exactly one solution, and you may not use the same element twice.\n",
    "\n",
    "You can return the answer in any order.\n",
    "\n",
    "|Input|Output|Explanation|\n",
    "|:--|:--|:--|\n",
    "|nums = [2,7,11,15], target = 9|[0,1]|Because nums[0] + nums[1] == 9, we return [0, 1].|\n",
    "|nums = [3,2,4], target = 6|[1,2]||\n",
    "|nums = [3,3], target = 6|[0,1]||\n",
    ">$Constraints:$  \n",
    ">- $2 <= nums.length <= 10^4$\n",
    ">- $-10^9 <= nums[i] <= 10^9$\n",
    ">- $-10^9 <= target <= 10^9$\n",
    ">- $Only$ $one$ $valid$ $answer$ $exists.$"
   ]
  },
  {
   "cell_type": "code",
   "execution_count": 1,
   "id": "7cb04c81",
   "metadata": {},
   "outputs": [],
   "source": [
    "import java.time.Duration;\n",
    "import java.time.Instant;\n",
    "import java.util.stream.*;\n",
    "\n",
    "class Solution {\n",
    "    public int[] twoSum(int[] nums, int target) {\n",
    "        List<Integer> numsList = Arrays.stream(nums).boxed().collect(Collectors.toList());\n",
    "        Map<Integer, Integer> map = Arrays\n",
    "            .stream(nums)\n",
    "            .boxed()\n",
    "            .collect(Collectors.groupingBy( i -> i,\n",
    "                Collectors.reducing(0, i -> 1, Integer::sum)));\n",
    "\n",
    "        for(int num : nums){\n",
    "            int pair = target - num;\n",
    "            if(Integer.valueOf(2).equals(map.get(pair))) \n",
    "                return new int[] {numsList.indexOf(num), numsList.lastIndexOf(pair)};\n",
    "            else if (pair != num && Integer.valueOf(1).equals(map.get(pair)))\n",
    "                return new int[] {numsList.indexOf(num), numsList.lastIndexOf(pair)};\n",
    "        }\n",
    "\n",
    "        return nums;\n",
    "    }\n",
    "}"
   ]
  },
  {
   "cell_type": "code",
   "execution_count": 2,
   "id": "1090826b",
   "metadata": {},
   "outputs": [
    {
     "data": {
      "text/plain": [
       "[0, 1]"
      ]
     },
     "execution_count": 2,
     "metadata": {},
     "output_type": "execute_result"
    }
   ],
   "source": [
    "Solution solution = new Solution();\n",
    "int[] nums = new int[]{2,7,11,15};\n",
    "int target = 9;\n",
    "\n",
    "/* Measure execution time */\n",
    "Instant start = Instant.now();\n",
    "int[] answer = solution.twoSum(nums, target);\n",
    "Instant finish = Instant.now();\n",
    "\n",
    "Arrays.toString(answer);"
   ]
  },
  {
   "cell_type": "code",
   "execution_count": 3,
   "id": "d2fc6085",
   "metadata": {},
   "outputs": [
    {
     "data": {
      "text/plain": [
       "11"
      ]
     },
     "execution_count": 3,
     "metadata": {},
     "output_type": "execute_result"
    }
   ],
   "source": [
    "Duration.between(start, finish).toMillis();"
   ]
  },
  {
   "attachments": {
    "image-2.png": {
     "image/png": "[encoded data removed]"
    }
   },
   "cell_type": "markdown",
   "id": "aef4d28f",
   "metadata": {},
   "source": [
    "![image-2.png](attachment:image-2.png)"
   ]
  },
  {
   "cell_type": "markdown",
   "id": "c2461b0c",
   "metadata": {},
   "source": [
    "### Solution - C++/Java/Python (Both Brute force & Optimized Code)\n",
    "---"
   ]
  },
  {
   "cell_type": "code",
   "execution_count": 4,
   "id": "df8ca559",
   "metadata": {},
   "outputs": [],
   "source": [
    "class HashSolution {\n",
    "    public int[] twoSum(int[] nums, int target) {\n",
    "        Map<Integer, Integer> numToIndex = new HashMap<>();\n",
    "        for (int i = 0; i < nums.length; i++) {\n",
    "            if (numToIndex.containsKey(target - nums[i])) {\n",
    "                return new int[] {numToIndex.get(target - nums[i]), i};\n",
    "            }\n",
    "            numToIndex.put(nums[i], i);\n",
    "        }\n",
    "        return new int[] {};\n",
    "    }\n",
    "}"
   ]
  },
  {
   "cell_type": "code",
   "execution_count": 5,
   "id": "7a644220",
   "metadata": {},
   "outputs": [
    {
     "data": {
      "text/plain": [
       "[0, 1]"
      ]
     },
     "execution_count": 5,
     "metadata": {},
     "output_type": "execute_result"
    }
   ],
   "source": [
    "HashSolution hashSolution = new HashSolution();\n",
    "\n",
    "/* Measure execution time */\n",
    "Instant start = Instant.now();\n",
    "int[] answer = hashSolution.twoSum(nums, target);\n",
    "Instant finish = Instant.now();\n",
    "\n",
    "Arrays.toString(answer);"
   ]
  },
  {
   "cell_type": "code",
   "execution_count": 6,
   "id": "c351ad09",
   "metadata": {},
   "outputs": [
    {
     "data": {
      "text/plain": [
       "11"
      ]
     },
     "execution_count": 6,
     "metadata": {},
     "output_type": "execute_result"
    }
   ],
   "source": [
    "Duration.between(start, finish).toMillis();"
   ]
  }
 ],
 "metadata": {
  "kernelspec": {
   "display_name": "Java",
   "language": "java",
   "name": "java"
  },
  "language_info": {
   "codemirror_mode": "java",
   "file_extension": ".jshell",
   "mimetype": "text/x-java-source",
   "name": "Java",
   "pygments_lexer": "java",
   "version": "11.0.17+8-post-Ubuntu-1ubuntu222.04"
  }
 },
 "nbformat": 4,
 "nbformat_minor": 5
}
