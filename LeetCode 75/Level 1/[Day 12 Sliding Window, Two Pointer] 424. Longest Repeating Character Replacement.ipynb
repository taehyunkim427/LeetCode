{
 "cells": [
  {
   "cell_type": "markdown",
   "id": "6777c0e6",
   "metadata": {},
   "source": [
    "### Longest Repeating Character Replacement\n",
    "---\n",
    "You are given a string s and an integer k. You can choose any character of the string and change it to any other uppercase English character. You can perform this operation at most k times.\n",
    "\n",
    "Return the length of the longest substring containing the same letter you can get after performing the above operations.\n",
    "\n",
    "|Input|Output|Explanation|\n",
    "|:--|:--|:--|\n",
    "|s = \"ABAB\", k = 2|4|Replace the two 'A's with two 'B's or vice versa.|\n",
    "|s = \"AABABBA\", k = 1|4|Replace the one 'A' in the middle with 'B' and form \"AABBBBA\". The substring \"BBBB\" has the longest repeating letters, which is 4.|\n",
    ">$Constraints:$  \n",
    ">- $1 <= s.length <= 10^5$\n",
    ">- $s$ $consists$ $of$ $only$ $uppercase$ $English$ $letters.$\n",
    ">- $0 <= k <= s.length$"
   ]
  },
  {
   "cell_type": "code",
   "execution_count": 1,
   "id": "546e2876",
   "metadata": {},
   "outputs": [],
   "source": [
    "import java.time.Duration;\n",
    "import java.time.Instant;\n",
    "\n",
    "class Solution {\n",
    "    public int characterReplacement(String s, int k) {\n",
    "        Map<Character, Integer> map = new HashMap<>(); \n",
    "        int left = 0, maxRepeat = 0, maxWindow = 0;\n",
    "\n",
    "        for(int right = 0; right < s.length(); right++) {\n",
    "            char ch = s.charAt(right);\n",
    "        \n",
    "            map.put(ch, map.getOrDefault(ch, 0) + 1);\n",
    "            \n",
    "            maxRepeat = Math.max(maxRepeat, map.get(ch));\n",
    "\n",
    "            if(right - left + 1 - maxRepeat > k) {\n",
    "                char remove = s.charAt(left);\n",
    "                map.put(remove, map.get(remove) - 1);\n",
    "                left++;\n",
    "            }\n",
    "            \n",
    "            maxWindow = Math.max(maxWindow, right - left + 1);\n",
    "        }\n",
    "        return maxWindow;\n",
    "    }\n",
    "}"
   ]
  },
  {
   "cell_type": "code",
   "execution_count": 7,
   "id": "7c131a1d",
   "metadata": {},
   "outputs": [
    {
     "data": {
      "text/plain": [
       "4"
      ]
     },
     "execution_count": 7,
     "metadata": {},
     "output_type": "execute_result"
    }
   ],
   "source": [
    "Solution solution = new Solution();\n",
    "String s = \"AABABBA\";\n",
    "int k = 1;\n",
    "\n",
    "/* Measure execution time */\n",
    "Instant start = Instant.now();\n",
    "int answer = solution.characterReplacement(s, k);\n",
    "Instant finish = Instant.now();\n",
    "\n",
    "answer"
   ]
  },
  {
   "cell_type": "code",
   "execution_count": 8,
   "id": "c16482a7",
   "metadata": {},
   "outputs": [
    {
     "data": {
      "text/plain": [
       "28"
      ]
     },
     "execution_count": 8,
     "metadata": {},
     "output_type": "execute_result"
    }
   ],
   "source": [
    "Duration.between(start, finish).toMillis();"
   ]
  },
  {
   "attachments": {
    "image.png": {
     "image/png": "[encoded data removed]"
    }
   },
   "cell_type": "markdown",
   "id": "a3abc54f",
   "metadata": {},
   "source": [
    "![image.png](attachment:image.png)"
   ]
  },
  {
   "cell_type": "markdown",
   "id": "986ada4e",
   "metadata": {},
   "source": [
    "### Easy || 100% || Fully Explained || C++, Java, Python, JavaScript, Python3 || Sliding Window\n",
    "---"
   ]
  },
  {
   "cell_type": "code",
   "execution_count": 4,
   "id": "caa289c3",
   "metadata": {},
   "outputs": [],
   "source": [
    "// Time Complexity :  O(n)\n",
    "// Space Complexity : O(1)\n",
    "class WindowSolution {\n",
    "    public int characterReplacement(String s, int k) {\n",
    "        // Make an array of size 26...\n",
    "        int[] arr = new int[26];\n",
    "        // Initialize largestCount, maxlen & beg pointer...\n",
    "        int largestCount = 0, beg = 0, maxlen = 0;\n",
    "        // Traverse all characters through the loop...\n",
    "        for(int end = 0; end < s.length(); end ++){\n",
    "            arr[s.charAt(end) - 'A']++;\n",
    "            // Get the largest count of a single, unique character in the current window...\n",
    "            largestCount = Math.max(largestCount, arr[s.charAt(end) - 'A']);\n",
    "            // We are allowed to have at most k replacements in the window...\n",
    "            // So, if max character frequency + distance between beg and end is greater than k...\n",
    "            // this means we have considered changing more than k charactres. So time to shrink window...\n",
    "            // Then there are more characters in the window than we can replace, and we need to shrink the window...\n",
    "            if(end - beg + 1 - largestCount > k){     // The main equation is: end - beg + 1 - largestCount...\n",
    "                arr[s.charAt(beg) - 'A']--;\n",
    "                beg ++;\n",
    "            }\n",
    "            // Get the maximum length of repeating character...\n",
    "            maxlen = Math.max(maxlen, end - beg + 1);     // end - beg + 1 = size of the current window...\n",
    "        }\n",
    "        return maxlen;      // Return the maximum length of repeating character...\n",
    "    }\n",
    "}"
   ]
  },
  {
   "cell_type": "code",
   "execution_count": 5,
   "id": "d602721f",
   "metadata": {},
   "outputs": [
    {
     "data": {
      "text/plain": [
       "4"
      ]
     },
     "execution_count": 5,
     "metadata": {},
     "output_type": "execute_result"
    }
   ],
   "source": [
    "WindowSolution windowSolution = new WindowSolution();\n",
    "String s = \"AABABBA\";\n",
    "int k = 1;\n",
    "\n",
    "/* Measure execution time */\n",
    "Instant start = Instant.now();\n",
    "int answer = windowSolution.characterReplacement(s, k);\n",
    "Instant finish = Instant.now();\n",
    "\n",
    "answer"
   ]
  },
  {
   "cell_type": "code",
   "execution_count": 6,
   "id": "0f3bca70",
   "metadata": {},
   "outputs": [
    {
     "data": {
      "text/plain": [
       "35"
      ]
     },
     "execution_count": 6,
     "metadata": {},
     "output_type": "execute_result"
    }
   ],
   "source": [
    "Duration.between(start, finish).toMillis();"
   ]
  }
 ],
 "metadata": {
  "kernelspec": {
   "display_name": "Java",
   "language": "java",
   "name": "java"
  },
  "language_info": {
   "codemirror_mode": "java",
   "file_extension": ".jshell",
   "mimetype": "text/x-java-source",
   "name": "Java",
   "pygments_lexer": "java",
   "version": "11.0.17+8-post-Ubuntu-1ubuntu222.04"
  }
 },
 "nbformat": 4,
 "nbformat_minor": 5
}
