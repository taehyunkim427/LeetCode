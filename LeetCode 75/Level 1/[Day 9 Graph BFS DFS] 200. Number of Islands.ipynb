{
 "cells": [
  {
   "cell_type": "markdown",
   "id": "103bad83",
   "metadata": {},
   "source": [
    "### Number of Islands\n",
    "---\n",
    "Given an m x n 2D binary grid grid which represents a map of '1's (land) and '0's (water), return the number of islands.\n",
    "\n",
    "An island is surrounded by water and is formed by connecting adjacent lands horizontally or vertically. You may assume all four edges of the grid are all surrounded by water.\n",
    "\n",
    "|Input|Output|Explanation|\n",
    "|:--|:--|:--|\n",
    "|grid = [[\"1\",\"1\",\"1\",\"1\",\"0\"],[\"1\",\"1\",\"0\",\"1\",\"0\"],[\"1\",\"1\",\"0\",\"0\",\"0\"],[\"0\",\"0\",\"0\",\"0\",\"0\"]]|1||\n",
    "|grid = [[\"1\",\"1\",\"0\",\"0\",\"0\"],[\"1\",\"1\",\"0\",\"0\",\"0\"],[\"0\",\"0\",\"1\",\"0\",\"0\"],[\"0\",\"0\",\"0\",\"1\",\"1\"]]|3||\n",
    ">$Constraints:$  \n",
    ">- $m == grid.length$\n",
    ">- $n == grid[i].length$\n",
    ">- $1 <= m, n <= 300$\n",
    ">- $grid[i][j]$ $is$ $0$ $or$ $1$"
   ]
  },
  {
   "cell_type": "code",
   "execution_count": 1,
   "id": "bf7756fb",
   "metadata": {},
   "outputs": [],
   "source": [
    "import java.time.Duration;\n",
    "import java.time.Instant;\n",
    "import java.util.stream.*;\n",
    "\n",
    "class Solution {\n",
    "    public int numIslands(char[][] grid) {\n",
    "        int answer = 0;\n",
    "\n",
    "        for(int i : IntStream.range(0, grid.length).toArray()){\n",
    "            for(int j : IntStream.range(0, grid[0].length).toArray()) {\n",
    "                if(grid[i][j] == '1') {\n",
    "                    findIsland (grid, i, j);\n",
    "                    answer += 1;\n",
    "                }\n",
    "            }\n",
    "        }\n",
    "\n",
    "        return answer;\n",
    "    }\n",
    "\n",
    "    private void findIsland(char[][] grid, int sr, int sc) {\n",
    "        int[][] dv = {{-1,0}, {1,0}, {0,-1}, {0,1}};\n",
    "        Queue<int[]> queue = new LinkedList<>();\n",
    "        queue.add(new int[]{sr,sc});\n",
    "\n",
    "        while(!queue.isEmpty()){\n",
    "            int[] rc = queue.poll();\n",
    "            int curRow = rc[0], curCol = rc[1];\n",
    "            if(grid[curRow][curCol] == '1') {\n",
    "                Arrays.stream(dv).filter(E ->\n",
    "                    curRow + E[0] >= 0 && curRow + E[0] < grid.length &&\n",
    "                    curCol + E[1] >= 0 && curCol + E[1] < grid[0].length\n",
    "                ).forEach(E -> queue.add(new int[]{curRow + E[0], curCol + E[1]}));\n",
    "                grid[curRow][curCol] = '2';\n",
    "            }\n",
    "        }\n",
    "    }\n",
    "}"
   ]
  },
  {
   "cell_type": "code",
   "execution_count": 7,
   "id": "35d894a9",
   "metadata": {},
   "outputs": [
    {
     "data": {
      "text/plain": [
       "2"
      ]
     },
     "execution_count": 7,
     "metadata": {},
     "output_type": "execute_result"
    }
   ],
   "source": [
    "char[][] grid = {{'1','1','1'},{'1','1','0'},{'1','0','1'}};\n",
    "Solution solution = new Solution();\n",
    "\n",
    "/* Measure execution time */\n",
    "Instant start = Instant.now();\n",
    "int answer = solution.numIslands(grid);\n",
    "Instant finish = Instant.now();\n",
    "\n",
    "answer"
   ]
  },
  {
   "cell_type": "code",
   "execution_count": 8,
   "id": "4c1dc8b1",
   "metadata": {},
   "outputs": [
    {
     "data": {
      "text/plain": [
       "51"
      ]
     },
     "execution_count": 8,
     "metadata": {},
     "output_type": "execute_result"
    }
   ],
   "source": [
    "Duration.between(start, finish).toMillis();"
   ]
  },
  {
   "attachments": {
    "image.png": {
     "image/png": "[encoded data removed]"
    }
   },
   "cell_type": "markdown",
   "id": "81b8e402",
   "metadata": {},
   "source": [
    "![image.png](attachment:image.png)"
   ]
  },
  {
   "cell_type": "code",
   "execution_count": 4,
   "id": "09179358",
   "metadata": {},
   "outputs": [],
   "source": [
    "public class RecursiveSolution {\n",
    "    public int numIslands(char[][] grid) {\n",
    "        int count = 0;\n",
    "        \n",
    "        for (int i = 0; i < grid.length; i++) {\n",
    "            for (int j = 0; j < grid[i].length; j++) {\n",
    "                if (grid[i][j] == '1') {\n",
    "                    count++;\n",
    "                    clearRestOfLand(grid, i, j);\n",
    "                }\n",
    "            }\n",
    "        }\n",
    "        return count;\n",
    "    }\n",
    "    \n",
    "    private void clearRestOfLand(char[][] grid, int i, int j) {\n",
    "        if (i < 0 || j < 0 || i >= grid.length || j >= grid[i].length || grid[i][j] == '0') return;\n",
    "        \n",
    "        grid[i][j] = '0';\n",
    "        clearRestOfLand(grid, i+1, j);\n",
    "        clearRestOfLand(grid, i-1, j);\n",
    "        clearRestOfLand(grid, i, j+1);\n",
    "        clearRestOfLand(grid, i, j-1);\n",
    "        return;\n",
    "    }\n",
    "}"
   ]
  },
  {
   "cell_type": "code",
   "execution_count": 5,
   "id": "3075791d",
   "metadata": {},
   "outputs": [
    {
     "data": {
      "text/plain": [
       "2"
      ]
     },
     "execution_count": 5,
     "metadata": {},
     "output_type": "execute_result"
    }
   ],
   "source": [
    "char[][] grid = {{'1','1','1'},{'1','1','0'},{'1','0','1'}};\n",
    "RecursiveSolution recursiveSolution = new RecursiveSolution();\n",
    "\n",
    "/* Measure execution time */\n",
    "Instant start = Instant.now();\n",
    "int answer = recursiveSolution.numIslands(grid);\n",
    "Instant finish = Instant.now();\n",
    "\n",
    "answer"
   ]
  },
  {
   "cell_type": "code",
   "execution_count": 6,
   "id": "4e9301ea",
   "metadata": {},
   "outputs": [
    {
     "data": {
      "text/plain": [
       "57"
      ]
     },
     "execution_count": 6,
     "metadata": {},
     "output_type": "execute_result"
    }
   ],
   "source": [
    "Duration.between(start, finish).toMillis();"
   ]
  }
 ],
 "metadata": {
  "kernelspec": {
   "display_name": "Java",
   "language": "java",
   "name": "java"
  },
  "language_info": {
   "codemirror_mode": "java",
   "file_extension": ".jshell",
   "mimetype": "text/x-java-source",
   "name": "Java",
   "pygments_lexer": "java",
   "version": "11.0.17+8-post-Ubuntu-1ubuntu222.04"
  }
 },
 "nbformat": 4,
 "nbformat_minor": 5
}
