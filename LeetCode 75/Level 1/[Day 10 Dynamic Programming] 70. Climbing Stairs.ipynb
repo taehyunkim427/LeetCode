{
 "cells": [
  {
   "cell_type": "markdown",
   "id": "ccd1b797",
   "metadata": {},
   "source": [
    "### Climbing Stairs\n",
    "---\n",
    "You are climbing a staircase. It takes n steps to reach the top.\n",
    "\n",
    "Each time you can either climb 1 or 2 steps. In how many distinct ways can you climb to the top?\n",
    "\n",
    "|Input|Output|Explanation|\n",
    "|:--|:--|:--|\n",
    "|n = 2|2|There are two ways to climb to the top.1. 1 step + 1 step 2. 2 steps|\n",
    "|n = 3|3|There are three ways to climb to the top. 1. 1 step + 1 step + 1 step 2. 1 step + 2 steps 3. 2 steps + 1 step|\n",
    ">$Constraints:$  \n",
    ">- $0 <= n <= 45$"
   ]
  },
  {
   "cell_type": "code",
   "execution_count": 1,
   "id": "1f48ba97",
   "metadata": {},
   "outputs": [],
   "source": [
    "import java.time.Duration;\n",
    "import java.time.Instant;\n",
    "import java.util.stream.*;\n",
    "\n",
    "class Solution {\n",
    "    public int climbStairs(int n) {\n",
    "        int[] climb = new int[n];\n",
    "        if (n == 1) return 1;\n",
    "        climb[0] = 1;\n",
    "        if (n == 2) return 2;\n",
    "        climb[1] = 2;\n",
    "        \n",
    "        IntStream.range(0, n)\n",
    "            .filter(i -> i >= 2)\n",
    "            .forEach(i -> climb[i] = climb[i-1] + climb[i-2]);\n",
    "            \n",
    "        return climb[n-1];\n",
    "    }\n",
    "}"
   ]
  },
  {
   "cell_type": "code",
   "execution_count": 7,
   "id": "658ce06d",
   "metadata": {},
   "outputs": [
    {
     "data": {
      "text/plain": [
       "5"
      ]
     },
     "execution_count": 7,
     "metadata": {},
     "output_type": "execute_result"
    }
   ],
   "source": [
    "Solution solution = new Solution();\n",
    "\n",
    "/* Measure execution time */\n",
    "Instant start = Instant.now();\n",
    "int answer = solution.climbStairs(4);\n",
    "Instant finish = Instant.now();\n",
    "\n",
    "answer"
   ]
  },
  {
   "cell_type": "code",
   "execution_count": 8,
   "id": "2a9a0758",
   "metadata": {},
   "outputs": [
    {
     "data": {
      "text/plain": [
       "21"
      ]
     },
     "execution_count": 8,
     "metadata": {},
     "output_type": "execute_result"
    }
   ],
   "source": [
    "Duration.between(start, finish).toMillis();"
   ]
  },
  {
   "attachments": {
    "image.png": {
     "image/png": "[encoded data removed]"
    }
   },
   "cell_type": "markdown",
   "id": "f6449af1",
   "metadata": {},
   "source": [
    "![image.png](attachment:image.png)"
   ]
  },
  {
   "cell_type": "markdown",
   "id": "5d5907f9",
   "metadata": {},
   "source": [
    "### java 🙌 | very easy sol with time and space complexity analysis\n",
    "---"
   ]
  },
  {
   "cell_type": "code",
   "execution_count": 4,
   "id": "15a6fae3",
   "metadata": {},
   "outputs": [],
   "source": [
    "class TabluationSolution {\n",
    "    public int climbStairs(int n) {\n",
    "      int[] dp = new int[n+1];\n",
    "      Arrays.fill(dp,-1);\n",
    "      return ansFunction(n,dp);\n",
    "    }\n",
    "    public int ansFunction(int n,int[] dp)\n",
    "    {\n",
    "        if(n == 0 || n==1) return 1;\n",
    "        if(dp[n] != -1) return dp[n];\n",
    "        else return dp[n] = ansFunction(n-1,dp) + ansFunction(n-2,dp);\n",
    "    }\n",
    "}"
   ]
  },
  {
   "cell_type": "code",
   "execution_count": 5,
   "id": "9859b80b",
   "metadata": {},
   "outputs": [
    {
     "data": {
      "text/plain": [
       "5"
      ]
     },
     "execution_count": 5,
     "metadata": {},
     "output_type": "execute_result"
    }
   ],
   "source": [
    "TabluationSolution tabluationSolution = new TabluationSolution();\n",
    "\n",
    "/* Measure execution time */\n",
    "start = Instant.now();\n",
    "answer = tabluationSolution.climbStairs(4);\n",
    "finish = Instant.now();\n",
    "\n",
    "answer"
   ]
  },
  {
   "cell_type": "code",
   "execution_count": 6,
   "id": "f8a97bb0",
   "metadata": {},
   "outputs": [
    {
     "data": {
      "text/plain": [
       "39"
      ]
     },
     "execution_count": 6,
     "metadata": {},
     "output_type": "execute_result"
    }
   ],
   "source": [
    "Duration.between(start, finish).toMillis();"
   ]
  }
 ],
 "metadata": {
  "kernelspec": {
   "display_name": "Java",
   "language": "java",
   "name": "java"
  },
  "language_info": {
   "codemirror_mode": "java",
   "file_extension": ".jshell",
   "mimetype": "text/x-java-source",
   "name": "Java",
   "pygments_lexer": "java",
   "version": "11.0.17+8-post-Ubuntu-1ubuntu222.04"
  }
 },
 "nbformat": 4,
 "nbformat_minor": 5
}
