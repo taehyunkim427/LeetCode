{
 "cells": [
  {
   "attachments": {
    "image.png": {
     "image/png": "[encoded data removed]"
    }
   },
   "cell_type": "markdown",
   "id": "908eff56",
   "metadata": {},
   "source": [
    "### Unique Paths\n",
    "---\n",
    "There is a robot on an m x n grid. The robot is initially located at the top-left corner (i.e., grid[0][0]). The robot tries to move to the bottom-right corner (i.e., grid[m - 1][n - 1]). The robot can only move either down or right at any point in time.\n",
    "\n",
    "Given the two integers m and n, return the number of possible unique paths that the robot can take to reach the bottom-right corner.\n",
    "\n",
    "The test cases are generated so that the answer will be less than or equal to 2 * 109.\n",
    "\n",
    "Example 1:\n",
    "![image.png](attachment:image.png)\n",
    "\n",
    "|Input|Output|Explanation|\n",
    "|:--|:--|:--|\n",
    "|m = 3, n = 7|28||\n",
    "|m = 3, n = 2|3|From the top-left corner, there are a total of 3 ways to reach the bottom-right corner: 1. Right -> Down -> Down, 2. Down -> Down -> Right, 3. Down -> Right -> Down|\n",
    ">$Constraints:$  \n",
    ">- $1 <= m, n <= 100$"
   ]
  },
  {
   "cell_type": "code",
   "execution_count": 1,
   "id": "e6f6b7cc",
   "metadata": {},
   "outputs": [],
   "source": [
    "import java.time.Duration;\n",
    "import java.time.Instant;\n",
    "import java.util.stream.*;\n",
    "\n",
    "class Solution {\n",
    "    public int uniquePaths(int m, int n) {\n",
    "        int[][] grid = new int[m][n];\n",
    "\n",
    "        Arrays.stream(grid).forEach(row -> Arrays.fill(row, 1));\n",
    "\n",
    "        IntStream.range(1, m).forEach(\n",
    "            row -> IntStream.range(1, n).forEach(\n",
    "                col -> grid[row][col] = grid[row-1][col] + grid[row][col-1]\n",
    "            )\n",
    "        );\n",
    "\n",
    "        return grid[m-1][n-1];\n",
    "    }\n",
    "}"
   ]
  },
  {
   "cell_type": "code",
   "execution_count": 7,
   "id": "b3914e81",
   "metadata": {},
   "outputs": [
    {
     "data": {
      "text/plain": [
       "28"
      ]
     },
     "execution_count": 7,
     "metadata": {},
     "output_type": "execute_result"
    }
   ],
   "source": [
    "Solution solution = new Solution();\n",
    "int m = 3, n = 7;\n",
    "\n",
    "/* Measure execution time */\n",
    "Instant start = Instant.now();\n",
    "int answer = solution.uniquePaths(m, n);\n",
    "Instant finish = Instant.now();\n",
    "\n",
    "answer"
   ]
  },
  {
   "cell_type": "code",
   "execution_count": 8,
   "id": "032681c6",
   "metadata": {},
   "outputs": [
    {
     "data": {
      "text/plain": [
       "20"
      ]
     },
     "execution_count": 8,
     "metadata": {},
     "output_type": "execute_result"
    }
   ],
   "source": [
    "Duration.between(start, finish).toMillis();"
   ]
  },
  {
   "attachments": {
    "image.png": {
     "image/png": "[encoded data removed]"
    }
   },
   "cell_type": "markdown",
   "id": "e90bf2c1",
   "metadata": {},
   "source": [
    "![image.png](attachment:image.png)"
   ]
  },
  {
   "cell_type": "markdown",
   "id": "b2f8bbea",
   "metadata": {},
   "source": [
    "### Math solution, O(1) space\n",
    "---"
   ]
  },
  {
   "cell_type": "code",
   "execution_count": 4,
   "id": "d388d25a",
   "metadata": {},
   "outputs": [],
   "source": [
    "public class MathSolution {\n",
    "    public int uniquePaths(int m, int n) {\n",
    "        if(m == 1 || n == 1)\n",
    "            return 1;\n",
    "        m--;\n",
    "        n--;\n",
    "        if(m < n) {              // Swap, so that m is the bigger number\n",
    "            m = m + n;\n",
    "            n = m - n;\n",
    "            m = m - n;\n",
    "        }\n",
    "        long res = 1;\n",
    "        int j = 1;\n",
    "        for(int i = m+1; i <= m+n; i++, j++){       // Instead of taking factorial, keep on multiply & divide\n",
    "            res *= i;\n",
    "            res /= j;\n",
    "        }\n",
    "            \n",
    "        return (int)res;\n",
    "    }\n",
    "}"
   ]
  },
  {
   "cell_type": "code",
   "execution_count": 5,
   "id": "24431bb3",
   "metadata": {},
   "outputs": [
    {
     "data": {
      "text/plain": [
       "28"
      ]
     },
     "execution_count": 5,
     "metadata": {},
     "output_type": "execute_result"
    }
   ],
   "source": [
    "MathSolution mathSolution = new MathSolution();\n",
    "\n",
    "/* Measure execution time */\n",
    "start = Instant.now();\n",
    "answer = solution.uniquePaths(m, n);\n",
    "finish = Instant.now();\n",
    "\n",
    "answer"
   ]
  },
  {
   "cell_type": "code",
   "execution_count": 6,
   "id": "5931f283",
   "metadata": {},
   "outputs": [
    {
     "data": {
      "text/plain": [
       "33"
      ]
     },
     "execution_count": 6,
     "metadata": {},
     "output_type": "execute_result"
    }
   ],
   "source": [
    "Duration.between(start, finish).toMillis();"
   ]
  }
 ],
 "metadata": {
  "kernelspec": {
   "display_name": "Java",
   "language": "java",
   "name": "java"
  },
  "language_info": {
   "codemirror_mode": "java",
   "file_extension": ".jshell",
   "mimetype": "text/x-java-source",
   "name": "Java",
   "pygments_lexer": "java",
   "version": "11.0.17+8-post-Ubuntu-1ubuntu222.04"
  }
 },
 "nbformat": 4,
 "nbformat_minor": 5
}
