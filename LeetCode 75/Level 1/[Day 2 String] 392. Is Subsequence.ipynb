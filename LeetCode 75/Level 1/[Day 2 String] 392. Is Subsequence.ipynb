{
 "cells": [
  {
   "cell_type": "markdown",
   "id": "d49868e1",
   "metadata": {},
   "source": [
    "### Is Subsequence\n",
    "---\n",
    "Given two strings s and t, return true if s is a subsequence of t, or false otherwise.\n",
    "\n",
    "A subsequence of a string is a new string that is formed from the original string by deleting some (can be none) of the characters without disturbing the relative positions of the remaining characters. (i.e., \"ace\" is a subsequence of \"abcde\" while \"aec\" is not).\n",
    "\n",
    "|Input|Output|Explanation|\n",
    "|:--|:--|:--|\n",
    "|s = \"abc\", t = \"ahbgdc\"|true||\n",
    "|s = \"axc\", t = \"ahbgdc\"|false||\n",
    "\n",
    ">$Constraints:$  \n",
    ">- $0 <= s.length <= 100$  \n",
    ">- $0 <= t.length <= 10^4$\n",
    ">- s $and$ t $consist$ $of$ $lowercase$ $English$ $letters.$"
   ]
  },
  {
   "cell_type": "code",
   "execution_count": 2,
   "id": "f5345e6f",
   "metadata": {},
   "outputs": [],
   "source": [
    "class Solution {\n",
    "    public boolean isSubsequence(String s, String t) {\n",
    "        String replacedT = s.length() <= 0 ? t : t.replaceAll(\"[^\" + s + \"]\" ,\"\");\n",
    "\n",
    "        return s.length() <= 0 ? true : replacedT.equals(s) ? true : replacedT.contains(s) ? true : false;\n",
    "    }\n",
    "}"
   ]
  },
  {
   "cell_type": "code",
   "execution_count": 3,
   "id": "4106e5b6",
   "metadata": {},
   "outputs": [
    {
     "data": {
      "text/plain": [
       "true"
      ]
     },
     "execution_count": 3,
     "metadata": {},
     "output_type": "execute_result"
    }
   ],
   "source": [
    "Solution sol = new Solution();\n",
    "String s = \"abc\";\n",
    "String t = \"ahbgdc\";\n",
    "sol.isSubsequence(\"abc\",\"ahbgdc\");"
   ]
  },
  {
   "cell_type": "markdown",
   "id": "e028ec7f",
   "metadata": {},
   "source": [
    "### Straight forward Java simple solution\n",
    "---"
   ]
  },
  {
   "cell_type": "code",
   "execution_count": 4,
   "id": "b7369c85",
   "metadata": {},
   "outputs": [],
   "source": [
    "public class Solution {\n",
    "    public boolean isSubsequence(String s, String t) {\n",
    "        if (s.length() == 0) return true;\n",
    "        int indexS = 0, indexT = 0;\n",
    "        while (indexT < t.length()) {\n",
    "            if (t.charAt(indexT) == s.charAt(indexS)) {\n",
    "                indexS++;\n",
    "                if (indexS == s.length()) return true;\n",
    "            }\n",
    "            indexT++;\n",
    "        }\n",
    "        return false;\n",
    "    }\n",
    "}"
   ]
  }
 ],
 "metadata": {
  "kernelspec": {
   "display_name": "Java",
   "language": "java",
   "name": "java"
  },
  "language_info": {
   "codemirror_mode": "java",
   "file_extension": ".jshell",
   "mimetype": "text/x-java-source",
   "name": "Java",
   "pygments_lexer": "java",
   "version": "11.0.17+8-post-Ubuntu-1ubuntu222.04"
  }
 },
 "nbformat": 4,
 "nbformat_minor": 5
}
