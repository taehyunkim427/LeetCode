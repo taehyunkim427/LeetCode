{
 "cells": [
  {
   "cell_type": "markdown",
   "id": "80c6b30b",
   "metadata": {},
   "source": [
    "### Binary Search\n",
    "---\n",
    "Given an array of integers nums which is sorted in ascending order, and an integer target, write a function to search target in nums. If target exists, then return its index. Otherwise, return -1.\n",
    "\n",
    "You must write an algorithm with O(log n) runtime complexity.\n",
    "\n",
    "|Input|Output|Explanation|\n",
    "|:--|:--|:--|\n",
    "|nums = [-1,0,3,5,9,12], target = 9|4|9 exists in nums and its index is 4|\n",
    "|nums = [-1,0,3,5,9,12], target = 2|-1|2 does not exist in nums so return -1|\n",
    ">$Constraints:$  \n",
    ">- $1 <= nums.length <= 104$\n",
    ">- $-10^4 < nums[i], target < 10^4$\n",
    ">- $All$ $the$ $integers$ $in$ $nums$ $are$ $unique.$\n",
    ">- $nums$ $is$ $sorted$ $in$ $ascending$ $order.$"
   ]
  },
  {
   "cell_type": "code",
   "execution_count": 1,
   "id": "fc0d3132",
   "metadata": {},
   "outputs": [],
   "source": [
    "import java.time.Duration;\n",
    "import java.time.Instant;\n",
    "import java.util.Collections.*;\n",
    "import java.util.stream.*;\n",
    "\n",
    "class Solution {\n",
    "    public int search(int[] nums, int target) {\n",
    "        int low = 0, mid = nums.length / 2, high = nums.length - 1;\n",
    "        if(target == nums[mid]) return mid;\n",
    "\n",
    "        while(low < high) {\n",
    "            if(target < nums[mid]) {\n",
    "                high = mid;\n",
    "                mid = low + (high - low) / 2;\n",
    "                if(target == nums[mid]) return mid;\n",
    "            } else {\n",
    "                low = mid + 1;\n",
    "                mid = low + (high - low) / 2;\n",
    "                if(target == nums[mid]) return mid;\n",
    "            }\n",
    "        } \n",
    "\n",
    "        return -1;\n",
    "    }\n",
    "}"
   ]
  },
  {
   "cell_type": "code",
   "execution_count": 4,
   "id": "34e1280d",
   "metadata": {},
   "outputs": [
    {
     "data": {
      "text/plain": [
       "4"
      ]
     },
     "execution_count": 4,
     "metadata": {},
     "output_type": "execute_result"
    }
   ],
   "source": [
    "int[] nums = {-1,0,3,5,9,12};\n",
    "int target = 9;\n",
    "Solution solution = new Solution();\n",
    "\n",
    "/* Measure execution time */\n",
    "Instant start = Instant.now();\n",
    "int result = solution.search(nums, target);\n",
    "Instant finish = Instant.now();\n",
    "result"
   ]
  },
  {
   "cell_type": "code",
   "execution_count": 5,
   "id": "bdadbac2",
   "metadata": {},
   "outputs": [
    {
     "data": {
      "text/plain": [
       "23"
      ]
     },
     "execution_count": 5,
     "metadata": {},
     "output_type": "execute_result"
    }
   ],
   "source": [
    "Duration.between(start, finish).toMillis();"
   ]
  },
  {
   "attachments": {
    "image.png": {
     "image/png": "[encoded data removed]"
    }
   },
   "cell_type": "markdown",
   "id": "c709bd4d",
   "metadata": {},
   "source": [
    "![image.png](attachment:image.png)"
   ]
  },
  {
   "cell_type": "markdown",
   "id": "dfe0b7c2",
   "metadata": {},
   "source": [
    "### Using collections binary search\n",
    "---"
   ]
  },
  {
   "cell_type": "code",
   "execution_count": 4,
   "id": "f2f1fdee",
   "metadata": {},
   "outputs": [],
   "source": [
    "class BuiltinSolution {\n",
    "    public int search(int[] nums, int target) {\n",
    "        List<Integer> list = Arrays.stream(nums).boxed().collect(Collectors.toList());\n",
    "        int result = Collections.binarySearch(list, target);\n",
    "        return result < 0 ? -1 : result;\n",
    "    }\n",
    "}"
   ]
  },
  {
   "cell_type": "code",
   "execution_count": 9,
   "id": "aea39919",
   "metadata": {},
   "outputs": [
    {
     "data": {
      "text/plain": [
       "4"
      ]
     },
     "execution_count": 9,
     "metadata": {},
     "output_type": "execute_result"
    }
   ],
   "source": [
    "BuiltinSolution builtinSolution = new BuiltinSolution();\n",
    "\n",
    "/* Measure execution time */\n",
    "start = Instant.now();\n",
    "result = builtinSolution.search(nums, target);\n",
    "finish = Instant.now();\n",
    "result"
   ]
  },
  {
   "cell_type": "code",
   "execution_count": 10,
   "id": "48dfdbd2",
   "metadata": {},
   "outputs": [
    {
     "data": {
      "text/plain": [
       "43"
      ]
     },
     "execution_count": 10,
     "metadata": {},
     "output_type": "execute_result"
    }
   ],
   "source": [
    "Duration.between(start, finish).toMillis();"
   ]
  }
 ],
 "metadata": {
  "kernelspec": {
   "display_name": "Java",
   "language": "java",
   "name": "java"
  },
  "language_info": {
   "codemirror_mode": "java",
   "file_extension": ".jshell",
   "mimetype": "text/x-java-source",
   "name": "Java",
   "pygments_lexer": "java",
   "version": "11.0.17+8-post-Ubuntu-1ubuntu222.04"
  }
 },
 "nbformat": 4,
 "nbformat_minor": 5
}
