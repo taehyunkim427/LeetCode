{
 "cells": [
  {
   "cell_type": "markdown",
   "id": "7438c209",
   "metadata": {},
   "source": [
    "### Min Cost Climbing Stairs\n",
    "---\n",
    "You are given an integer array cost where cost[i] is the cost of ith step on a staircase. Once you pay the cost, you can either climb one or two steps.\n",
    "\n",
    "You can either start from the step with index 0, or the step with index 1.\n",
    "\n",
    "Return the minimum cost to reach the top of the floor.\n",
    "\n",
    "|Input|Output|Explanation|\n",
    "|:--|:--|:--|\n",
    "|cost = [10,15,20]|15|You will start at index 1. Pay 15 and climb two steps to reach the top. The total cost is 15.|\n",
    "|cost = [1,100,1,1,1,100,1,1,100,1]|6|You will start at index 0. Pay 1 and climb two steps to reach index 2. Pay 1 and climb two steps to reach index 4. Pay 1 and climb two steps to reach index 6. Pay 1 and climb one step to reach index 7. Pay 1 and climb two steps to reach index 9. Pay 1 and climb one step to reach the top. The total cost is 6.|\n",
    ">$Constraints:$  \n",
    ">- $2 <= cost.length <= 1000$\n",
    ">- $0 <= cost[i] <= 999$"
   ]
  },
  {
   "cell_type": "code",
   "execution_count": 1,
   "id": "e7466327",
   "metadata": {},
   "outputs": [],
   "source": [
    "import java.time.Duration;\n",
    "import java.time.Instant;\n",
    "import java.util.stream.*;\n",
    "\n",
    "class Solution {\n",
    "    public int minCostClimbingStairs(int[] cost) {\n",
    "        int[] minCost = new int[cost.length];\n",
    "        if (cost.length == 1 || cost.length == 2) return Arrays.stream(cost).min().getAsInt();\n",
    "\n",
    "        IntStream.range(2, cost.length).forEach(i -> minCost[i] = Math.min(\n",
    "            cost[i-1] + minCost[i-1],\n",
    "            cost[i-2] + minCost[i-2]\n",
    "            )\n",
    "        );\n",
    "        return Math.min(\n",
    "            cost[cost.length-1] + minCost[cost.length-1],\n",
    "            cost[cost.length-2] + minCost[cost.length-2]\n",
    "            );\n",
    "    }\n",
    "}"
   ]
  },
  {
   "cell_type": "code",
   "execution_count": 7,
   "id": "1d8ecac4",
   "metadata": {},
   "outputs": [
    {
     "data": {
      "text/plain": [
       "6"
      ]
     },
     "execution_count": 7,
     "metadata": {},
     "output_type": "execute_result"
    }
   ],
   "source": [
    "Solution solution = new Solution();\n",
    "int[] cost = {1,100,1,1,1,100,1,1,100,1};\n",
    "\n",
    "/* Measure execution time */\n",
    "Instant start = Instant.now();\n",
    "int answer = solution.minCostClimbingStairs(cost);\n",
    "Instant finish = Instant.now();\n",
    "\n",
    "answer"
   ]
  },
  {
   "cell_type": "code",
   "execution_count": 8,
   "id": "92e3a552",
   "metadata": {},
   "outputs": [
    {
     "data": {
      "text/plain": [
       "25"
      ]
     },
     "execution_count": 8,
     "metadata": {},
     "output_type": "execute_result"
    }
   ],
   "source": [
    "Duration.between(start, finish).toMillis();"
   ]
  },
  {
   "attachments": {
    "image-2.png": {
     "image/png": "[encoded data removed]"
    }
   },
   "cell_type": "markdown",
   "id": "6b970b67",
   "metadata": {},
   "source": [
    "![image-2.png](attachment:image-2.png)"
   ]
  },
  {
   "cell_type": "markdown",
   "id": "d686af57",
   "metadata": {},
   "source": [
    "### [JAVA] 3 lines solution O(1) space complexity\n",
    "---"
   ]
  },
  {
   "cell_type": "code",
   "execution_count": 4,
   "id": "e058327f",
   "metadata": {},
   "outputs": [],
   "source": [
    "class SimpleSolution {\n",
    "    public int minCostClimbingStairs(int[] cost) {\n",
    "       for (int i = 2; i < cost.length; i ++) {\n",
    "            cost[i] += Math.min(cost[i - 1], cost[i - 2]);\n",
    "        }\n",
    "        return Math.min(cost[cost.length - 1], cost[cost.length - 2]);\n",
    "    }\n",
    "}"
   ]
  },
  {
   "cell_type": "code",
   "execution_count": 5,
   "id": "1e3a0cc5",
   "metadata": {},
   "outputs": [
    {
     "data": {
      "text/plain": [
       "6"
      ]
     },
     "execution_count": 5,
     "metadata": {},
     "output_type": "execute_result"
    }
   ],
   "source": [
    "SimpleSolution simpleSolution = new SimpleSolution();\n",
    "\n",
    "/* Measure execution time */\n",
    "start = Instant.now();\n",
    "answer = simpleSolution.minCostClimbingStairs(cost);\n",
    "finish = Instant.now();\n",
    "\n",
    "answer"
   ]
  },
  {
   "cell_type": "code",
   "execution_count": 6,
   "id": "62805ca6",
   "metadata": {},
   "outputs": [
    {
     "data": {
      "text/plain": [
       "34"
      ]
     },
     "execution_count": 6,
     "metadata": {},
     "output_type": "execute_result"
    }
   ],
   "source": [
    "Duration.between(start, finish).toMillis();"
   ]
  }
 ],
 "metadata": {
  "kernelspec": {
   "display_name": "Java",
   "language": "java",
   "name": "java"
  },
  "language_info": {
   "codemirror_mode": "java",
   "file_extension": ".jshell",
   "mimetype": "text/x-java-source",
   "name": "Java",
   "pygments_lexer": "java",
   "version": "11.0.17+8-post-Ubuntu-1ubuntu222.04"
  }
 },
 "nbformat": 4,
 "nbformat_minor": 5
}
