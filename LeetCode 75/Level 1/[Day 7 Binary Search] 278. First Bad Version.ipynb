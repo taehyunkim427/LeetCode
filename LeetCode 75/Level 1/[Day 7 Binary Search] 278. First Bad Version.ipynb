{
 "cells": [
  {
   "cell_type": "markdown",
   "id": "a37ae4d5",
   "metadata": {},
   "source": [
    "### First Bad Version\n",
    "---\n",
    "You are a product manager and currently leading a team to develop a new product. Unfortunately, the latest version of your product fails the quality check. Since each version is developed based on the previous version, all the versions after a bad version are also bad.\n",
    "\n",
    "Suppose you have n versions [1, 2, ..., n] and you want to find out the first bad one, which causes all the following ones to be bad.\n",
    "\n",
    "You are given an API bool isBadVersion(version) which returns whether version is bad. Implement a function to find the first bad version. You should minimize the number of calls to the API.\n",
    "\n",
    "|Input|Output|Explanation|\n",
    "|:--|:--|:--|\n",
    "|n = 5, bad = 4|4|call isBadVersion(3) -> false, call isBadVersion(5) -> true, call isBadVersion(4) -> true, Then 4 is the first bad version.|\n",
    "|n = 1, bad = 1|1||\n",
    ">$Constraints:$  \n",
    ">- $1 <= bad <= n <= 2^(31) - 1$"
   ]
  },
  {
   "cell_type": "code",
   "execution_count": 1,
   "id": "a38aaf57",
   "metadata": {},
   "outputs": [],
   "source": [
    "import java.time.Duration;\n",
    "import java.time.Instant;\n",
    "import java.util.Collections.*;\n",
    "import java.util.stream.*;\n",
    "\n",
    "\n",
    "class VersionControl {\n",
    "    boolean isBadVersion(int currentVersion, int badVersion) {\n",
    "        return currentVersion >= badVersion ? true : false;\n",
    "    }\n",
    "}"
   ]
  },
  {
   "cell_type": "code",
   "execution_count": 2,
   "id": "2a42855a",
   "metadata": {},
   "outputs": [],
   "source": [
    "class Solution extends VersionControl {\n",
    "    public int firstBadVersion(int n, int bad) {\n",
    "        int low = 0, mid = n / 2, high = n;\n",
    "        if (n == 1) return 1;\n",
    "\n",
    "        while(low < high) {\n",
    "            if(isBadVersion(mid, bad)) {\n",
    "                high = mid;\n",
    "                mid = low + (high - low) / 2;\n",
    "            } else {\n",
    "                low = mid + 1;\n",
    "                mid = low + (high - low) / 2;\n",
    "            }\n",
    "        }\n",
    "        return mid;\n",
    "    }\n",
    "}"
   ]
  },
  {
   "cell_type": "code",
   "execution_count": 8,
   "id": "c2f68d6f",
   "metadata": {},
   "outputs": [
    {
     "data": {
      "text/plain": [
       "4"
      ]
     },
     "execution_count": 8,
     "metadata": {},
     "output_type": "execute_result"
    }
   ],
   "source": [
    "int n = 5, bad = 4;\n",
    "Solution solution = new Solution();\n",
    "\n",
    "/* Measure execution time */\n",
    "Instant start = Instant.now();\n",
    "int result = solution.firstBadVersion(n, bad);\n",
    "Instant finish = Instant.now();\n",
    "result"
   ]
  },
  {
   "cell_type": "code",
   "execution_count": 9,
   "id": "e2aee414",
   "metadata": {},
   "outputs": [
    {
     "data": {
      "text/plain": [
       "22"
      ]
     },
     "execution_count": 9,
     "metadata": {},
     "output_type": "execute_result"
    }
   ],
   "source": [
    "Duration.between(start, finish).toMillis();"
   ]
  },
  {
   "attachments": {
    "image.png": {
     "image/png": "[encoded data removed]"
    }
   },
   "cell_type": "markdown",
   "id": "5cbdd1c6",
   "metadata": {},
   "source": [
    "![image.png](attachment:image.png)"
   ]
  },
  {
   "cell_type": "markdown",
   "id": "375e8c8c",
   "metadata": {},
   "source": [
    "### Java | 4 lines code | Log(n) time | space O(1) | Binary Search\n",
    "---"
   ]
  },
  {
   "cell_type": "code",
   "execution_count": 5,
   "id": "c907ee77",
   "metadata": {},
   "outputs": [],
   "source": [
    "class ShortSolution extends VersionControl {\n",
    "    public int firstBadVersion(int n) {\n",
    "        int l=1;\n",
    "        while(l<=n){\n",
    "            int m=l+(n-l)/2;\n",
    "            if(isBadVersion(m)){\n",
    "                n=m-1;\n",
    "            }else{\n",
    "                l=m+1;\n",
    "            }\n",
    "        }\n",
    "        return l;\n",
    "    }\n",
    "}"
   ]
  },
  {
   "cell_type": "code",
   "execution_count": 6,
   "id": "78badf2a",
   "metadata": {},
   "outputs": [
    {
     "ename": "UnresolvedReferenceException",
     "evalue": "Attempt to use definition snippet with unresolved references in Snippet:ClassKey(ShortSolution)#26-class ShortSolution extends VersionControl {\n    public int firstBadVersion(int n) {\n        int l=1;\n        while(l<=n){\n            int m=l+(n-l)/2;\n            if(isBadVersion(m)){\n                n=m-1;\n            }else{\n                l=m+1;\n            }\n        }\n        return l;\n    }\n}",
     "output_type": "error",
     "traceback": []
    }
   ],
   "source": [
    "ShortSolution shortSolution = new ShortSolution();\n",
    "\n",
    "/* Measure execution time */\n",
    "start = Instant.now();\n",
    "result = shortSolution.firstBadVersion(n, bad);\n",
    "finish = Instant.now();\n",
    "result"
   ]
  },
  {
   "cell_type": "code",
   "execution_count": 7,
   "id": "34567a6a",
   "metadata": {},
   "outputs": [
    {
     "data": {
      "text/plain": [
       "52"
      ]
     },
     "execution_count": 7,
     "metadata": {},
     "output_type": "execute_result"
    }
   ],
   "source": [
    "Duration.between(start, finish).toMillis();"
   ]
  }
 ],
 "metadata": {
  "kernelspec": {
   "display_name": "Java",
   "language": "java",
   "name": "java"
  },
  "language_info": {
   "codemirror_mode": "java",
   "file_extension": ".jshell",
   "mimetype": "text/x-java-source",
   "name": "Java",
   "pygments_lexer": "java",
   "version": "11.0.17+8-post-Ubuntu-1ubuntu222.04"
  }
 },
 "nbformat": 4,
 "nbformat_minor": 5
}
