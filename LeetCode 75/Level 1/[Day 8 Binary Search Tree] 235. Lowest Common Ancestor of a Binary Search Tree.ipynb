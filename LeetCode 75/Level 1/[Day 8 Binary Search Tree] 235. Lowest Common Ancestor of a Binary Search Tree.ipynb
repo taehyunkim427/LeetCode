{
 "cells": [
  {
   "cell_type": "markdown",
   "id": "964c66e6",
   "metadata": {},
   "source": [
    "### Lowest Common Ancestor of a Binary Search Tree\n",
    "---\n",
    "Given a binary search tree (BST), find the lowest common ancestor (LCA) node of two given nodes in the BST.\n",
    "\n",
    "According to the definition of LCA on Wikipedia: “The lowest common ancestor is defined between two nodes p and q as the lowest node in T that has both p and q as descendants (where we allow a node to be a descendant of itself).”\n",
    "\n",
    "|Input|Output|Explanation|\n",
    "|:--|:--|:--|\n",
    "|root = [6,2,8,0,4,7,9,null,null,3,5], p = 2, q = 8|6|The LCA of nodes 2 and 8 is 6.|\n",
    "|root = [6,2,8,0,4,7,9,null,null,3,5], p = 2, q = 4|2||\n",
    ">$Constraints:$  \n",
    ">- $The$ $number$ $of$ $nodes$ $in$ $the$ $tree$ $is$ $in$ $the$ $range$ $[2, 105].$\n",
    ">- $-10^9 <= Node.val <= 10^9$\n",
    ">- $All$ $Node.val$ $are$ $unique.$\n",
    ">- $p != q$\n",
    ">- $p$ $and$ $q$ $will$ $exist$ $in$ $the$ $BST.$"
   ]
  },
  {
   "cell_type": "code",
   "execution_count": 1,
   "id": "25837d85",
   "metadata": {},
   "outputs": [],
   "source": [
    "import java.time.Duration;\n",
    "import java.time.Instant;\n",
    "\n",
    "class TreeNode {\n",
    "    int val;\n",
    "    TreeNode left;\n",
    "    TreeNode right;\n",
    "    TreeNode() {}\n",
    "    TreeNode(int val) { this.val = val; }\n",
    "    TreeNode(int val, TreeNode left, TreeNode right) {\n",
    "        this.val = val;\n",
    "        this.left = left;\n",
    "        this.right = right;\n",
    "    }\n",
    "}"
   ]
  },
  {
   "cell_type": "code",
   "execution_count": 2,
   "id": "05a5b350",
   "metadata": {},
   "outputs": [],
   "source": [
    "class Solution {\n",
    "    public TreeNode lowestCommonAncestor(TreeNode root, TreeNode p, TreeNode q) {\n",
    "        TreeNode lca = root;\n",
    "        TreeNode pAncestor = root;\n",
    "        TreeNode qAncestor = root;\n",
    "        while (pAncestor == qAncestor){\n",
    "            if (pAncestor.val == p.val || qAncestor.val == q.val) {\n",
    "                return pAncestor;\n",
    "            }\n",
    "            lca = pAncestor;\n",
    "            pAncestor = pAncestor.val > p.val ? pAncestor.left : pAncestor.right;\n",
    "            qAncestor = qAncestor.val > q.val ? qAncestor.left : qAncestor.right;\n",
    "        }\n",
    "        return lca;\n",
    "    }\n",
    "}"
   ]
  },
  {
   "cell_type": "code",
   "execution_count": 8,
   "id": "1c4f2cb3",
   "metadata": {},
   "outputs": [
    {
     "data": {
      "text/plain": [
       "2"
      ]
     },
     "execution_count": 8,
     "metadata": {},
     "output_type": "execute_result"
    }
   ],
   "source": [
    "TreeNode root = new TreeNode(2, new TreeNode(1), new TreeNode(3));\n",
    "Solution solution = new Solution();\n",
    "\n",
    "/* Measure execution time */\n",
    "Instant start = Instant.now();\n",
    "TreeNode result = solution.lowestCommonAncestor(root,new TreeNode(1),new TreeNode(3));\n",
    "Instant finish = Instant.now();\n",
    "result.val"
   ]
  },
  {
   "cell_type": "code",
   "execution_count": 9,
   "id": "6e68357b",
   "metadata": {},
   "outputs": [
    {
     "data": {
      "text/plain": [
       "35"
      ]
     },
     "execution_count": 9,
     "metadata": {},
     "output_type": "execute_result"
    }
   ],
   "source": [
    "Duration.between(start, finish).toMillis();"
   ]
  },
  {
   "attachments": {
    "image.png": {
     "image/png": "[encoded data removed]"
    }
   },
   "cell_type": "markdown",
   "id": "4d15cd40",
   "metadata": {},
   "source": [
    "![image.png](attachment:image.png)"
   ]
  },
  {
   "cell_type": "markdown",
   "id": "4503d250",
   "metadata": {},
   "source": [
    "### [Java] Runtime: 4ms, faster than 100% || 3 lines || O(1) space\n",
    "---"
   ]
  },
  {
   "cell_type": "code",
   "execution_count": 5,
   "id": "0f3adcbf",
   "metadata": {},
   "outputs": [],
   "source": [
    "class SimpleSolution {\n",
    "    public TreeNode lowestCommonAncestor(TreeNode root, TreeNode p, TreeNode q) {\n",
    "        if (p.val < root.val && q.val < root.val) return lowestCommonAncestor(root.left, p, q);\n",
    "        else if (p.val > root.val && q.val > root.val) return lowestCommonAncestor(root.right, p, q);\n",
    "        else return root;\n",
    "    }\n",
    "}"
   ]
  },
  {
   "cell_type": "code",
   "execution_count": 6,
   "id": "b2414946",
   "metadata": {},
   "outputs": [
    {
     "data": {
      "text/plain": [
       "2"
      ]
     },
     "execution_count": 6,
     "metadata": {},
     "output_type": "execute_result"
    }
   ],
   "source": [
    "TreeNode root = new TreeNode(2, new TreeNode(1), new TreeNode(3));\n",
    "SimpleSolution simpleSolution = new SimpleSolution();\n",
    "\n",
    "/* Measure execution time */\n",
    "start = Instant.now();\n",
    "result = simpleSolution.lowestCommonAncestor(root,new TreeNode(1),new TreeNode(3));\n",
    "finish = Instant.now();\n",
    "result.val"
   ]
  },
  {
   "cell_type": "code",
   "execution_count": 7,
   "id": "123c2a3a",
   "metadata": {},
   "outputs": [
    {
     "data": {
      "text/plain": [
       "35"
      ]
     },
     "execution_count": 7,
     "metadata": {},
     "output_type": "execute_result"
    }
   ],
   "source": [
    "Duration.between(start, finish).toMillis();"
   ]
  }
 ],
 "metadata": {
  "kernelspec": {
   "display_name": "Java",
   "language": "java",
   "name": "java"
  },
  "language_info": {
   "codemirror_mode": "java",
   "file_extension": ".jshell",
   "mimetype": "text/x-java-source",
   "name": "Java",
   "pygments_lexer": "java",
   "version": "11.0.17+8-post-Ubuntu-1ubuntu222.04"
  }
 },
 "nbformat": 4,
 "nbformat_minor": 5
}
