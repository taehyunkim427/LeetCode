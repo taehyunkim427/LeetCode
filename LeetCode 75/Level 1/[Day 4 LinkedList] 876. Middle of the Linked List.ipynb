{
 "cells": [
  {
   "cell_type": "markdown",
   "id": "f5d78538",
   "metadata": {},
   "source": [
    "### Middle of the Linked List\n",
    "---\n",
    "Given the head of a singly linked list, return the middle node of the linked list.\n",
    "\n",
    "If there are two middle nodes, return the second middle node.\n",
    "\n",
    "|Input|Output|Explanation|\n",
    "|:--|:--|:--|\n",
    "|head = [1,2,3,4,5]|[3,4,5]|The middle node of the list is node 3.|\n",
    "|head = [1,2,3,4,5,6]|[4,5,6]|Since the list has two middle nodes with values 3 and 4, we return the second one.|\n",
    ">$Constraints:$  \n",
    ">- $The$ $number$ $of$ $nodes$ $in$ $the$ $list$ $is$ $in$ $the$ $range$ $[1, 100]$\n",
    ">- $1 <= Node.val <= 100$"
   ]
  },
  {
   "cell_type": "code",
   "execution_count": 1,
   "id": "f8446507",
   "metadata": {},
   "outputs": [],
   "source": [
    "import java.time.Duration;\n",
    "import java.time.Instant;\n",
    "\n",
    "class ListNode {\n",
    "  int val;\n",
    "  ListNode next;\n",
    "  ListNode() {}\n",
    "  ListNode(int val) { this.val = val; }\n",
    "  ListNode(int val, ListNode next) { this.val = val; this.next = next; }\n",
    "}\n",
    "\n",
    "class Solution {\n",
    "    public ListNode middleNode(ListNode head) {\n",
    "        if (head == null) {\n",
    "            return head;\n",
    "        }\n",
    "\n",
    "        ListNode countNode = head;\n",
    "        int count = 0;\n",
    "\n",
    "        while(countNode != null) {\n",
    "            countNode = countNode.next;\n",
    "            count += 1;\n",
    "        }\n",
    "        \n",
    "        for(int i=0; i < count/2; i++){\n",
    "            head = head.next;\n",
    "        }\n",
    "\n",
    "        return head;\n",
    "    }\n",
    "}"
   ]
  },
  {
   "cell_type": "code",
   "execution_count": 7,
   "id": "49aaa229",
   "metadata": {},
   "outputs": [],
   "source": [
    "ListNode list1 = new ListNode(0);\n",
    "Solution solution = new Solution();\n",
    "\n",
    "/* Measure execution time */\n",
    "Instant start = Instant.now();\n",
    "ListNode result = solution.middleNode(list1);\n",
    "Instant finish = Instant.now();"
   ]
  },
  {
   "cell_type": "code",
   "execution_count": 8,
   "id": "10a34896",
   "metadata": {},
   "outputs": [
    {
     "data": {
      "text/plain": [
       "19"
      ]
     },
     "execution_count": 8,
     "metadata": {},
     "output_type": "execute_result"
    }
   ],
   "source": [
    "Duration.between(start, finish).toMillis();"
   ]
  },
  {
   "attachments": {
    "image-2.png": {
     "image/png": "[encoded data removed]"
    }
   },
   "cell_type": "markdown",
   "id": "b84acd9e",
   "metadata": {},
   "source": [
    "![image-2.png](attachment:image-2.png)"
   ]
  },
  {
   "cell_type": "markdown",
   "id": "b155ca97",
   "metadata": {},
   "source": [
    "### Fast and Slow Pointer\n",
    "---"
   ]
  },
  {
   "cell_type": "code",
   "execution_count": 4,
   "id": "a2aca085",
   "metadata": {},
   "outputs": [],
   "source": [
    "class PointerSolution {\n",
    "    public ListNode middleNode(ListNode head) {\n",
    "        ListNode slow = head, fast = head;\n",
    "        while (fast != null && fast.next != null) {\n",
    "            slow = slow.next;\n",
    "            fast = fast.next.next;\n",
    "        }\n",
    "        return slow;\n",
    "    }\n",
    "}"
   ]
  },
  {
   "cell_type": "code",
   "execution_count": 5,
   "id": "f0c7f9c4",
   "metadata": {},
   "outputs": [],
   "source": [
    "PointerSolution pointerSolution = new PointerSolution();\n",
    "\n",
    "/* Measure execution time */\n",
    "start = Instant.now();\n",
    "ListNode pointerResult = pointerSolution.middleNode(list1);\n",
    "finish = Instant.now();"
   ]
  },
  {
   "cell_type": "code",
   "execution_count": 6,
   "id": "78dac7f3",
   "metadata": {},
   "outputs": [
    {
     "data": {
      "text/plain": [
       "38"
      ]
     },
     "execution_count": 6,
     "metadata": {},
     "output_type": "execute_result"
    }
   ],
   "source": [
    "Duration.between(start, finish).toMillis();"
   ]
  }
 ],
 "metadata": {
  "kernelspec": {
   "display_name": "Java",
   "language": "java",
   "name": "java"
  },
  "language_info": {
   "codemirror_mode": "java",
   "file_extension": ".jshell",
   "mimetype": "text/x-java-source",
   "name": "Java",
   "pygments_lexer": "java",
   "version": "11.0.17+8-post-Ubuntu-1ubuntu222.04"
  }
 },
 "nbformat": 4,
 "nbformat_minor": 5
}
