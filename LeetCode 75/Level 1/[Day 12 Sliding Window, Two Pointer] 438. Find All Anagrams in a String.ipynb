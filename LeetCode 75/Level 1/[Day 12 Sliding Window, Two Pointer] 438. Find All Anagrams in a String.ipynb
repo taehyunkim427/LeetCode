{
 "cells": [
  {
   "cell_type": "markdown",
   "id": "9ae64769",
   "metadata": {},
   "source": [
    "### Find All Anagrams in a String\n",
    "---\n",
    "Given two strings s and p, return an array of all the start indices of p's anagrams in s. You may return the answer in any order.\n",
    "\n",
    "An Anagram is a word or phrase formed by rearranging the letters of a different word or phrase, typically using all the original letters exactly once.\n",
    "\n",
    "|Input|Output|Explanation|\n",
    "|:--|:--|:--|\n",
    "|s = \"cbaebabacd\", p = \"abc\"|[0,6]|The substring with start index = 0 is \"cba\", which is an anagram of \"abc\". The substring with start index = 6 is \"bac\", which is an anagram of \"abc\".|\n",
    "|s = \"abab\", p = \"ab\"|[0,1,2]|The substring with start index = 0 is \"ab\", which is an anagram of \"ab\". The substring with start index = 1 is \"ba\", which is an anagram of \"ab\". The substring with start index = 2 is \"ab\", which is an anagram of \"ab\".|\n",
    ">$Constraints:$  \n",
    ">- $1 <= s.length, p.length <= 3 * 10^4$\n",
    ">- $s$ $and$ $p$ $consist$ $of$ $lowercase$ $English$ $letters.$"
   ]
  },
  {
   "cell_type": "code",
   "execution_count": 1,
   "id": "ce256ada",
   "metadata": {},
   "outputs": [],
   "source": [
    "import java.util.regex.Pattern;\n",
    "import java.time.Duration;\n",
    "import java.time.Instant;\n",
    "import java.util.stream.*;\n",
    "import java.util.function.*;\n",
    "\n",
    "class Solution {\n",
    "    public List<Integer> findAnagrams(String s, String p) {\n",
    "        if(p.length() > s.length()) return new ArrayList<>();\n",
    "        \n",
    "        Map<String, Long> sMap = mapStrCount(s.substring(0, p.length()))\n",
    "            , pMap = mapStrCount(p);\n",
    "        \n",
    "        return IntStream.range(0, s.length() - p.length() + 1)\n",
    "            .filter(i -> pMap.equals(getNextStrMap(sMap, s, i, p.length())))\n",
    "            .boxed()\n",
    "            .collect(Collectors.toList());\n",
    "    }\n",
    "\n",
    "    private Map<String, Long> mapStrCount(String s) {\n",
    "        return Pattern.compile(\"\").splitAsStream(s)\n",
    "                .collect(Collectors.groupingBy(\n",
    "                    Function.identity(), Collectors.counting())\n",
    "                );\n",
    "    }\n",
    "\n",
    "    private Map<String, Long> getNextStrMap(Map<String, Long> sMap, String s, int i, int pLength) {\n",
    "        if (i == 0) return sMap;\n",
    "        String leftKey = s.charAt(i-1) + \"\";\n",
    "        String rightKey = s.charAt(i + pLength-1) + \"\";\n",
    "\n",
    "        if(sMap.get(leftKey) == Long.valueOf(1)) {\n",
    "            sMap.remove(leftKey);\n",
    "        } else {\n",
    "            sMap.put(leftKey, sMap.get(leftKey) - 1);\n",
    "        }\n",
    "        \n",
    "        sMap.put(rightKey, sMap.getOrDefault(rightKey, Long.valueOf(0)) + 1);\n",
    "\n",
    "        return sMap;\n",
    "    }\n",
    "}"
   ]
  },
  {
   "cell_type": "code",
   "execution_count": 7,
   "id": "4cd9a627",
   "metadata": {},
   "outputs": [
    {
     "data": {
      "text/plain": [
       "[0, 6]"
      ]
     },
     "execution_count": 7,
     "metadata": {},
     "output_type": "execute_result"
    }
   ],
   "source": [
    "Solution solution = new Solution();\n",
    "String s = \"cbaebabacd\", p = \"abc\";\n",
    "\n",
    "/* Measure execution time */\n",
    "Instant start = Instant.now();\n",
    "List<Integer> answer = solution.findAnagrams(s, p);\n",
    "Instant finish = Instant.now();\n",
    "\n",
    "answer"
   ]
  },
  {
   "cell_type": "code",
   "execution_count": 8,
   "id": "eb4ca6d5",
   "metadata": {},
   "outputs": [
    {
     "data": {
      "text/plain": [
       "37"
      ]
     },
     "execution_count": 8,
     "metadata": {},
     "output_type": "execute_result"
    }
   ],
   "source": [
    "Duration.between(start, finish).toMillis();"
   ]
  },
  {
   "attachments": {
    "image.png": {
     "image/png": "[encoded data removed]"
    }
   },
   "cell_type": "markdown",
   "id": "e19c5036",
   "metadata": {},
   "source": [
    "![image.png](attachment:image.png)"
   ]
  },
  {
   "cell_type": "markdown",
   "id": "47144662",
   "metadata": {},
   "source": [
    "### Easy || 100% || Fully Explained || C++, Java, Python, JavaScript, Python3 || Sliding Window\n",
    "---"
   ]
  },
  {
   "cell_type": "code",
   "execution_count": 4,
   "id": "612dc914",
   "metadata": {},
   "outputs": [],
   "source": [
    "/**\n",
    " * Sliding window (In this solution windows of size = p.length() is always\n",
    " * maintained.)\n",
    " *\n",
    " * Time Complexity: O(S + P)\n",
    " *\n",
    " * Space Complexity: O(P). We only save unique characters in P. It will be O(1)\n",
    " * as there are only 26 alphabets.\n",
    " *\n",
    " * S = Length of input string s. P = Length of input string p.\n",
    " */\n",
    "class WindowSolution {\n",
    "    public List<Integer> findAnagrams(String s, String p) {\n",
    "        if (s == null || p == null) {\n",
    "            throw new IllegalArgumentException(\"Input string is null\");\n",
    "        }\n",
    "\n",
    "        List<Integer> result = new ArrayList<>();\n",
    "        int sLen = s.length();\n",
    "        int pLen = p.length();\n",
    "        if (sLen * pLen == 0 || sLen < pLen) {\n",
    "            return result;\n",
    "        }\n",
    "\n",
    "        Map<Character, Integer> map = new HashMap<>();\n",
    "        for (int i = 0; i < p.length(); i++) {\n",
    "            map.put(p.charAt(i), map.getOrDefault(p.charAt(i), 0) + 1);\n",
    "        }\n",
    "\n",
    "        int toBeMatched = map.size();\n",
    "        int start = 0;\n",
    "        int end = 0;\n",
    "\n",
    "        while (end < sLen) {\n",
    "            char eChar = s.charAt(end);\n",
    "            if (map.containsKey(eChar)) {\n",
    "                int count = map.get(eChar);\n",
    "                if (count == 1) {\n",
    "                    toBeMatched--;\n",
    "                }\n",
    "                map.put(eChar, count - 1);\n",
    "            }\n",
    "            end++;\n",
    "\n",
    "            if (end - start > pLen) {\n",
    "                char sChar = s.charAt(start);\n",
    "                if (map.containsKey(sChar)) {\n",
    "                    int count = map.get(sChar);\n",
    "                    if (count == 0) {\n",
    "                        toBeMatched++;\n",
    "                    }\n",
    "                    map.put(sChar, count + 1);\n",
    "                }\n",
    "                start++;\n",
    "            }\n",
    "\n",
    "            if (toBeMatched == 0) {\n",
    "                result.add(start);\n",
    "            }\n",
    "        }\n",
    "\n",
    "        return result;\n",
    "    }\n",
    "}"
   ]
  },
  {
   "cell_type": "code",
   "execution_count": 5,
   "id": "d9a3ae58",
   "metadata": {},
   "outputs": [
    {
     "data": {
      "text/plain": [
       "[0, 6]"
      ]
     },
     "execution_count": 5,
     "metadata": {},
     "output_type": "execute_result"
    }
   ],
   "source": [
    "WindowSolution windowSolution = new WindowSolution();\n",
    "String s = \"cbaebabacd\", p = \"abc\";\n",
    "\n",
    "/* Measure execution time */\n",
    "Instant start = Instant.now();\n",
    "List<Integer> answer = windowSolution.findAnagrams(s, p);\n",
    "Instant finish = Instant.now();\n",
    "\n",
    "answer"
   ]
  },
  {
   "cell_type": "code",
   "execution_count": 6,
   "id": "975dc9e0",
   "metadata": {},
   "outputs": [
    {
     "data": {
      "text/plain": [
       "49"
      ]
     },
     "execution_count": 6,
     "metadata": {},
     "output_type": "execute_result"
    }
   ],
   "source": [
    "Duration.between(start, finish).toMillis();"
   ]
  }
 ],
 "metadata": {
  "kernelspec": {
   "display_name": "Java",
   "language": "java",
   "name": "java"
  },
  "language_info": {
   "codemirror_mode": "java",
   "file_extension": ".jshell",
   "mimetype": "text/x-java-source",
   "name": "Java",
   "pygments_lexer": "java",
   "version": "11.0.17+8-post-Ubuntu-1ubuntu222.04"
  }
 },
 "nbformat": 4,
 "nbformat_minor": 5
}
