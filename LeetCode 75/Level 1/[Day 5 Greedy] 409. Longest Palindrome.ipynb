{
 "cells": [
  {
   "cell_type": "markdown",
   "id": "23138b26",
   "metadata": {},
   "source": [
    "### Longest Palindrome\n",
    "---\n",
    "Given a string s which consists of lowercase or uppercase letters, return the length of the longest palindrome that can be built with those letters.\n",
    "\n",
    "Letters are case sensitive, for example, \"Aa\" is not considered a palindrome here.\n",
    "\n",
    "|Input|Output|Explanation|\n",
    "|:--|:--|:--|\n",
    "|s = \"abccccdd\"|7|One longest palindrome that can be built is \"dccaccd\", whose length is 7.|\n",
    "|s = \"a\"|1|The longest palindrome that can be built is \"a\", whose length is 1.|\n",
    ">$Constraints:$  \n",
    ">- $1 <= s.length <= 2000$\n",
    ">- $s$ $consists$ $of$ $lowercase$ $and/or$ $uppercase$ $English$ $letters$ $only.$"
   ]
  },
  {
   "cell_type": "code",
   "execution_count": 1,
   "id": "8df0a45e",
   "metadata": {},
   "outputs": [],
   "source": [
    "import java.util.stream.*;\n",
    "import java.util.function.Function;\n",
    "import java.time.Duration;\n",
    "import java.time.Instant;\n",
    "\n",
    "class Solution {\n",
    "    public int longestPalindrome(String s) {\n",
    "        List<String> list = Arrays.asList(s.split(\"\"));\n",
    "        Map<String, Long> counted = list.stream().collect(Collectors.groupingBy(Function.identity(), Collectors.counting()));       \n",
    "        int valueSum = counted.values().stream().mapToInt(v -> v.intValue()).sum();\n",
    "        int evenValueSum = counted.values().stream().filter(v -> v >= 2).mapToInt(v -> v.intValue() / 2 * 2).sum();\n",
    "\n",
    "        return valueSum > evenValueSum ? evenValueSum + 1 : evenValueSum;\n",
    "    }\n",
    "}"
   ]
  },
  {
   "cell_type": "code",
   "execution_count": 7,
   "id": "a9ef659a",
   "metadata": {},
   "outputs": [
    {
     "data": {
      "text/plain": [
       "7"
      ]
     },
     "execution_count": 7,
     "metadata": {},
     "output_type": "execute_result"
    }
   ],
   "source": [
    "String s = \"abccccdd\";\n",
    "Solution solution = new Solution();\n",
    "\n",
    "/* Measure execution time */\n",
    "Instant start = Instant.now();\n",
    "int result = solution.longestPalindrome(s);\n",
    "Instant finish = Instant.now();\n",
    "result"
   ]
  },
  {
   "cell_type": "code",
   "execution_count": 8,
   "id": "ed6c5017",
   "metadata": {},
   "outputs": [
    {
     "data": {
      "text/plain": [
       "23"
      ]
     },
     "execution_count": 8,
     "metadata": {},
     "output_type": "execute_result"
    }
   ],
   "source": [
    "Duration.between(start, finish).toMillis();"
   ]
  },
  {
   "attachments": {
    "image.png": {
     "image/png": "[encoded data removed]"
    }
   },
   "cell_type": "markdown",
   "id": "67e7aaeb",
   "metadata": {},
   "source": [
    "![image.png](attachment:image.png)"
   ]
  },
  {
   "cell_type": "code",
   "execution_count": 4,
   "id": "beb277b5",
   "metadata": {},
   "outputs": [],
   "source": [
    "class SetSolution {\n",
    "    public int longestPalindrome(String s) {\n",
    "        Set<Character> set = new HashSet<Character>();\n",
    "        for (int i = 0; i < s.length(); i++)\n",
    "            if (!set.add(s.charAt(i))) set.remove(s.charAt(i));\n",
    "        return s.length()-Math.max(set.size()-1, 0);\n",
    "    }\n",
    "}"
   ]
  },
  {
   "cell_type": "code",
   "execution_count": 5,
   "id": "c64e1a3c",
   "metadata": {},
   "outputs": [
    {
     "data": {
      "text/plain": [
       "7"
      ]
     },
     "execution_count": 5,
     "metadata": {},
     "output_type": "execute_result"
    }
   ],
   "source": [
    "SetSolution setSolution = new SetSolution();\n",
    "\n",
    "/* Measure execution time */\n",
    "start = Instant.now();\n",
    "int setResult = setSolution.longestPalindrome(s);\n",
    "finish = Instant.now();\n",
    "setResult"
   ]
  },
  {
   "cell_type": "code",
   "execution_count": 6,
   "id": "a91ec0f1",
   "metadata": {},
   "outputs": [
    {
     "data": {
      "text/plain": [
       "30"
      ]
     },
     "execution_count": 6,
     "metadata": {},
     "output_type": "execute_result"
    }
   ],
   "source": [
    "Duration.between(start, finish).toMillis();"
   ]
  }
 ],
 "metadata": {
  "kernelspec": {
   "display_name": "Java",
   "language": "java",
   "name": "java"
  },
  "language_info": {
   "codemirror_mode": "java",
   "file_extension": ".jshell",
   "mimetype": "text/x-java-source",
   "name": "Java",
   "pygments_lexer": "java",
   "version": "11.0.17+8-post-Ubuntu-1ubuntu222.04"
  }
 },
 "nbformat": 4,
 "nbformat_minor": 5
}
